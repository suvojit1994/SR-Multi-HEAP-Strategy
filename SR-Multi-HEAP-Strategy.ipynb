{
  "nbformat": 4,
  "nbformat_minor": 0,
  "metadata": {
    "colab": {
      "provenance": []
    },
    "kernelspec": {
      "name": "python3",
      "display_name": "Python 3"
    },
    "language_info": {
      "name": "python"
    }
  },
  "cells": [
    {
      "cell_type": "markdown",
      "source": [
        "### Import Library"
      ],
      "metadata": {
        "id": "FAcHOLg7VHIm"
      }
    },
    {
      "cell_type": "code",
      "execution_count": 223,
      "metadata": {
        "id": "OcrtRf3rVD7T"
      },
      "outputs": [],
      "source": [
        "import numpy as np\n",
        "import pandas as pd\n",
        "import matplotlib.pyplot as plt\n",
        "import networkx as nx\n",
        "import itertools"
      ]
    },
    {
      "cell_type": "markdown",
      "source": [
        "### Define Helper Functions"
      ],
      "metadata": {
        "id": "c-N6h4UWVE8E"
      }
    },
    {
      "cell_type": "code",
      "source": [
        "def generate_ifn(value):\n",
        "    # Generate a random membership degree between 0 and value/4\n",
        "    # m = np.random.uniform(0, value/4)\n",
        "\n",
        "    # # Ensure the non-membership degree satisfies m + n <= 1\n",
        "    # n = np.random.uniform(0, 1 - m)\n",
        "    ifns = {\n",
        "        \"0\":(0.10,0.90),\n",
        "        \"1\":(0.20,0.65),\n",
        "        \"2\":(0.30,0.55),\n",
        "        \"3\":(0.50,0.50),\n",
        "        \"4\":(0.65,0.25),\n",
        "        \"5\":(0.80,0.05),\n",
        "        \"6\":(0.90,0.10)\n",
        "    }\n",
        "    return ifns[str(value)]\n",
        "\n",
        "def m_operation(pair1, pair2):\n",
        "    a1, b1 = pair1\n",
        "    a2, b2 = pair2\n",
        "    return (min(a1, a2), max(b1, b2))\n",
        "\n",
        "def M_operation(pair1, pair2):\n",
        "    a1, b1 = pair1\n",
        "    a2, b2 = pair2\n",
        "    return (max(a1, a2), min(b1, b2))\n",
        "\n",
        "\n",
        "def dist(pair1, pair2):\n",
        "    a1, b1 = pair1\n",
        "    a2, b2 = pair2\n",
        "    h1 = 1 - (a1 + b1)\n",
        "    h2 = 1 - (a2 + b2)\n",
        "\n",
        "    term1 = (abs(2*(a1 - a2) - (b1 - b2)) / 3) * (1 - (h1 + h2) / 2)\n",
        "    term2 = (abs(2*(b1 - b2) - (a1 - a2)) / 3) * ((h1 + h2) / 2)\n",
        "\n",
        "    return term1 + term2"
      ],
      "metadata": {
        "id": "IJVcmsu9VbxR"
      },
      "execution_count": 224,
      "outputs": []
    },
    {
      "cell_type": "markdown",
      "source": [
        "### Input Experts Data"
      ],
      "metadata": {
        "id": "ZPE6ZmI4VkkL"
      }
    },
    {
      "cell_type": "code",
      "source": [
        "df = pd.read_csv('input.csv')\n",
        "\n",
        "# Calculate n\n",
        "n = int(np.sqrt(df.shape[0]))\n",
        "k = df.shape[1] - 1\n",
        "# # Initialize the list of expert matrices\n",
        "expert_matrices = []\n",
        "\n",
        "# Iterate over the columns of the DataFrame\n",
        "for i in range(1, df.shape[1]):\n",
        "    # Convert the column values to a list\n",
        "    column_values = df.iloc[:, i].tolist()\n",
        "\n",
        "    # Reshape the list into an n*n matrix\n",
        "    matrix = np.reshape(column_values, (n, n),order='F')\n",
        "    matrix = matrix.T\n",
        "    # Add the matrix to the list\n",
        "    expert_matrices.append(matrix)\n",
        "\n",
        "    # Convert matrices to IFN matrices\n",
        "ifn_matrices = []\n",
        "\n",
        "for matrix in expert_matrices:\n",
        "    ifn_matrix = np.array([[generate_ifn(value) for value in row] for row in matrix])\n",
        "    ifn_matrices.append(ifn_matrix)\n",
        "\n",
        "# Write the matrices and IFN matrices to a file\n",
        "with open(\"solution.txt\", \"w\") as file:\n",
        "    for i, (matrix, ifn_matrix) in enumerate(zip(expert_matrices, ifn_matrices), 1):\n",
        "        file.write(f\"Expert Matrix {i}:\\n\")\n",
        "        for row in matrix:\n",
        "            file.write(\" \".join(map(str, row)) + \"\\n\")\n",
        "        file.write(\"\\n\")\n",
        "\n",
        "        file.write(f\"Expert {i} IFN Matrix :\\n\")\n",
        "        for row in ifn_matrix:\n",
        "            file.write(\" \".join([f\"({m:.2f}, {n:.2f})\" for m, n in row]) + \"\\n\")\n",
        "        file.write(\"\\n\")\n",
        "\n",
        "print(\"Matrices and IFN matrices have been written to 'solution.txt'\")"
      ],
      "metadata": {
        "colab": {
          "base_uri": "https://localhost:8080/"
        },
        "id": "tMKbuaP2VreL",
        "outputId": "ae71df80-4c88-4002-aa9b-90b89318e710"
      },
      "execution_count": 225,
      "outputs": [
        {
          "output_type": "stream",
          "name": "stdout",
          "text": [
            "Matrices and IFN matrices have been written to 'solution.txt'\n"
          ]
        }
      ]
    },
    {
      "cell_type": "code",
      "source": [
        "# priority_parameter=float(input(\"Enter the Priority Parameter: \"))\n",
        "priority_parameter=0.5"
      ],
      "metadata": {
        "id": "SdHj0M5oWErF"
      },
      "execution_count": 226,
      "outputs": []
    },
    {
      "cell_type": "markdown",
      "source": [
        "### Calculate IFPIO  Matrix"
      ],
      "metadata": {
        "id": "uVk6BnsMWUbX"
      }
    },
    {
      "cell_type": "code",
      "source": [
        "IFPIO = np.zeros((n, n, 2))  # Initialize a nxn matrix with pairs\n",
        "for i in range(n):\n",
        "    for j in range(n):\n",
        "        result = [1, 1]  # Initialize with neutral element for the $ operation\n",
        "        for ifn_matrix in ifn_matrices:\n",
        "            result = [result[0] * (ifn_matrix[i][j][0]**(1/k)),result[1]*((1-ifn_matrix[i][j][1])**(1/k))]\n",
        "        IFPIO[i][j] = [result[0],1-result[1]]  # Take the average\n",
        "\n",
        "# Append the IFPIO matrix to the solution.txt file\n",
        "with open(\"solution.txt\", \"a\") as file:\n",
        "    file.write(\"IFPIO Matrix (Intuitionistic Fuzzy Positive Ideal Opinion Matrix):\\n\")\n",
        "    for row in IFPIO:\n",
        "        file.write(\" \".join([f\"({m:10.5f}, {n:10.5f})\" for m, n in row]) + \"\\n\")\n",
        "    file.write(\"\\n\")\n",
        "\n",
        "print(\"IFPIO matrix has been appended to 'solution.txt'\")\n"
      ],
      "metadata": {
        "colab": {
          "base_uri": "https://localhost:8080/"
        },
        "id": "sg2ftrZiWkAD",
        "outputId": "11171445-5242-4ab0-d4f9-9fb47d371a68"
      },
      "execution_count": 227,
      "outputs": [
        {
          "output_type": "stream",
          "name": "stdout",
          "text": [
            "IFPIO matrix has been appended to 'solution.txt'\n"
          ]
        }
      ]
    },
    {
      "cell_type": "markdown",
      "source": [
        "### Calculate IFNIO Matrice"
      ],
      "metadata": {
        "id": "mZWtHZ7GWyGR"
      }
    },
    {
      "cell_type": "code",
      "source": [
        "# Compute the IFNIO matrix by swapping the pairs from the IFPIO matrix\n",
        "IFNIO = np.array([[(b, a) for a, b in row] for row in IFPIO])\n",
        "\n",
        "# Append the IFNIO matrix to the solution.txt file\n",
        "with open(\"solution.txt\", \"a\") as file:\n",
        "    file.write(\"IFNIO Matrix (Intuitionistic Fuzzy Negative Ideal Opinion Matrix):\\n\")\n",
        "    for row in IFNIO:\n",
        "        file.write(\" \".join([f\"({m:10.5f}, {n:10.5f})\" for m, n in row]) + \"\\n\")\n",
        "    file.write(\"\\n\")\n",
        "\n",
        "print(\"IFNIO matrix has been appended to 'solution.txt'\")\n"
      ],
      "metadata": {
        "colab": {
          "base_uri": "https://localhost:8080/"
        },
        "id": "jrSR6Rf6W3PW",
        "outputId": "97ec607e-5368-4bf0-9355-6c050bfe520a"
      },
      "execution_count": 228,
      "outputs": [
        {
          "output_type": "stream",
          "name": "stdout",
          "text": [
            "IFNIO matrix has been appended to 'solution.txt'\n"
          ]
        }
      ]
    },
    {
      "cell_type": "markdown",
      "source": [
        "### Calculate IFLNIO Matrix"
      ],
      "metadata": {
        "id": "z_CvLbTLXA8u"
      }
    },
    {
      "cell_type": "code",
      "source": [
        "# Compute the IFLNIO matrix using the m operation\n",
        "IFLNIO = np.zeros((n, n, 2))  # Initialize a 5x5 matrix with pairs\n",
        "\n",
        "for i in range(n):\n",
        "    for j in range(n):\n",
        "        result = ifn_matrices[0][i][j]  # Start with the first IFN matrix\n",
        "        for p in range(1, len(ifn_matrices)):\n",
        "            result = m_operation(result, ifn_matrices[p][i][j])\n",
        "        IFLNIO[i][j] = result\n",
        "\n",
        "# Append the IFLNIO matrix to the solution.txt file\n",
        "with open(\"solution.txt\", \"a\") as file:\n",
        "    file.write(\"IFLNIO Matrix (Intuitionistic Fuzzy Left Negative Ideal Opinion Matrix):\\n\")\n",
        "    for row in IFLNIO:\n",
        "        file.write(\" \".join([f\"({m:10.5f}, {n:10.5f})\" for m, n in row]) + \"\\n\")\n",
        "    file.write(\"\\n\")\n",
        "\n",
        "print(\"IFLNIO matrix has been appended to 'solution.txt'\")\n"
      ],
      "metadata": {
        "colab": {
          "base_uri": "https://localhost:8080/"
        },
        "id": "rJykfjHfW-nc",
        "outputId": "70bfbcae-1cbd-4072-d646-845599df544b"
      },
      "execution_count": 229,
      "outputs": [
        {
          "output_type": "stream",
          "name": "stdout",
          "text": [
            "IFLNIO matrix has been appended to 'solution.txt'\n"
          ]
        }
      ]
    },
    {
      "cell_type": "markdown",
      "source": [
        "### Calculate IFRNIO Matrix"
      ],
      "metadata": {
        "id": "QtGGh9SlXFm1"
      }
    },
    {
      "cell_type": "code",
      "source": [
        "# Compute the IFRNIO matrix using the M operation\n",
        "IFRNIO = np.zeros((n, n, 2))  # Initialize a 5x5 matrix with pairs\n",
        "\n",
        "for i in range(n):\n",
        "    for j in range(n):\n",
        "        result = ifn_matrices[0][i][j]  # Start with the first IFN matrix\n",
        "        for p in range(1, len(ifn_matrices)):\n",
        "            result = M_operation(result, ifn_matrices[p][i][j])\n",
        "        IFRNIO[i][j] = result\n",
        "\n",
        "# Append the IFRNIO matrix to the solution.txt file\n",
        "with open(\"solution.txt\", \"a\") as file:\n",
        "    file.write(\"IFRNIO Matrix (Intuitionistic Fuzzy Right Negative Ideal Opinion Matrix):\\n\")\n",
        "    for row in IFRNIO:\n",
        "        file.write(\" \".join([f\"({m:10.5f}, {n:10.5f})\" for m, n in row]) + \"\\n\")\n",
        "    file.write(\"\\n\")\n",
        "\n",
        "print(\"IFRNIO matrix has been appended to 'solution.txt'\")"
      ],
      "metadata": {
        "colab": {
          "base_uri": "https://localhost:8080/"
        },
        "id": "6KeOAAa_XQ7A",
        "outputId": "9ac0085f-033f-4ad8-8324-6922d405d48a"
      },
      "execution_count": 230,
      "outputs": [
        {
          "output_type": "stream",
          "name": "stdout",
          "text": [
            "IFRNIO matrix has been appended to 'solution.txt'\n"
          ]
        }
      ]
    },
    {
      "cell_type": "markdown",
      "source": [
        "### Defined List of names of matrix"
      ],
      "metadata": {
        "id": "9hGB7ehUXY3A"
      }
    },
    {
      "cell_type": "code",
      "source": [
        "matrices_list = [IFPIO, IFNIO, IFLNIO, IFRNIO]\n",
        "matrices_names = [\"IFPIO\", \"IFNIO\", \"IFLNIO\", \"IFRNIO\"]\n",
        "\n",
        "# List of the five IFN matrices\n",
        "ifn_matrices_list = ifn_matrices\n",
        "ifn_matrices_names = [f\"IFN{p+1}\" for p in range(k)]\n",
        "expert_matrices_names = [f\"Expert_{p+1}\" for p in range(k)]\n",
        "# Dictionary to store the distance matrices\n",
        "distance_matrices_dict = {}"
      ],
      "metadata": {
        "id": "HbFshq36Xdop"
      },
      "execution_count": 231,
      "outputs": []
    },
    {
      "cell_type": "markdown",
      "source": [
        "### Calculate distance matrix for all the possible combinations"
      ],
      "metadata": {
        "id": "wI5yiTqmXioF"
      }
    },
    {
      "cell_type": "code",
      "source": [
        "# Compute the distance matrices for all n*k combinations\n",
        "with open(\"solution.txt\", \"a\") as file:\n",
        "    for i, matrix in enumerate(matrices_list):\n",
        "          for j, ifn_matrix in enumerate(ifn_matrices_list):\n",
        "              distance_matrix = np.zeros((n, n))\n",
        "              for x in range(n):\n",
        "                  for y in range(n):\n",
        "                      distance_matrix[x][y] = dist(matrix[x][y], ifn_matrix[x][y])\n",
        "\n",
        "              # Store the distance matrix in the dictionary\n",
        "              key = f\"{matrices_names[i]}_to_{ifn_matrices_names[j]}\"\n",
        "\n",
        "              distance_matrices_dict[key] = distance_matrix\n",
        "\n",
        "              # Append the distance matrix to the solution.txt file\n",
        "              file.write(f\"Distance Matrix between {matrices_names[i]} and {ifn_matrices_names[j]}:\\n\")\n",
        "              for row in distance_matrix:\n",
        "                  file.write(\" \".join([f\"{value:10.5f}\" for value in row]) + \"\\n\")\n",
        "              file.write(\"\\n\")\n",
        "\n",
        "print(\"All distance matrices have been computed and stored.\")"
      ],
      "metadata": {
        "colab": {
          "base_uri": "https://localhost:8080/"
        },
        "id": "B8Xrpo4rXtpU",
        "outputId": "ae633dd9-721c-4541-b24c-b9de9e38a277"
      },
      "execution_count": 232,
      "outputs": [
        {
          "output_type": "stream",
          "name": "stdout",
          "text": [
            "All distance matrices have been computed and stored.\n"
          ]
        }
      ]
    },
    {
      "cell_type": "markdown",
      "source": [
        "### Initialize DistanceMatrix"
      ],
      "metadata": {
        "id": "jgafMczjYH6N"
      }
    },
    {
      "cell_type": "code",
      "source": [
        "DistanceMatrix = np.zeros((k, 4))"
      ],
      "metadata": {
        "id": "_c--7LNKYLSC"
      },
      "execution_count": 233,
      "outputs": []
    },
    {
      "cell_type": "markdown",
      "source": [
        "### Calculate Values for DistanceMatrix"
      ],
      "metadata": {
        "id": "sBJ7udpxYNb_"
      }
    },
    {
      "cell_type": "code",
      "source": [
        "# Compute the values for DistanceMatrix\n",
        "for i, ifn_name in enumerate(ifn_matrices_names):\n",
        "    for j, matrix_name in enumerate(matrices_names):\n",
        "        key = f\"{matrix_name}_to_{ifn_name}\"\n",
        "        DistanceMatrix[i][j] = np.sum(distance_matrices_dict[key])\n",
        "\n",
        "# Append the DistanceMatrix to the solution.txt file\n",
        "with open(\"solution.txt\", \"a\") as file:\n",
        "    file.write(\"DistanceMatrix (Summation of Distance Matrices):\\n\")\n",
        "\n",
        "    # Top boundary\n",
        "    file.write(\"+\" + \"-\" * (len(matrices_names) * 12 + 7) + \"+\\n\")\n",
        "\n",
        "    # Column names with vertical boundaries\n",
        "    file.write(\"|       \" + \" | \".join(matrices_names) + \" |\\n\")\n",
        "\n",
        "    # Separator line\n",
        "    file.write(\"|\" + \"-\" * (len(matrices_names) * 12 + 7) + \"|\\n\")\n",
        "\n",
        "    # Matrix rows with vertical boundaries\n",
        "    for i, row in enumerate(DistanceMatrix):\n",
        "        file.write(\"| \" + expert_matrices_names[i] + \" \" + \" | \".join([f\"{value:10.5f}\" for value in row]) + \" |\\n\")\n",
        "\n",
        "    # Bottom boundary\n",
        "    file.write(\"+\" + \"-\" * (len(matrices_names) * 12 + 7) + \"+\\n\\n\")\n",
        "\n",
        "print(\"DistanceMatrix with a boundary has been appended to 'solution.txt'\")"
      ],
      "metadata": {
        "colab": {
          "base_uri": "https://localhost:8080/"
        },
        "id": "z9DtZsEEYbuY",
        "outputId": "b381d2e5-0a24-4f5a-f9f5-3c47efa174ad"
      },
      "execution_count": 234,
      "outputs": [
        {
          "output_type": "stream",
          "name": "stdout",
          "text": [
            "DistanceMatrix with a boundary has been appended to 'solution.txt'\n"
          ]
        }
      ]
    },
    {
      "cell_type": "markdown",
      "source": [
        "### Calculate Closeness Coefficient"
      ],
      "metadata": {
        "id": "kHN3rL8fYfCM"
      }
    },
    {
      "cell_type": "code",
      "source": [
        "closeness_coefficients = []"
      ],
      "metadata": {
        "id": "c2G363u7YnfN"
      },
      "execution_count": 235,
      "outputs": []
    },
    {
      "cell_type": "code",
      "source": [
        "for i in range(k):  # For each IFN\n",
        "        numerator = sum(DistanceMatrix[i, j] for j in [1, 2, 3])  # Sum values from IFNIO, IFLNIO, and IFRNIO columns\n",
        "        denominator = sum(DistanceMatrix[i])  # Sum values from all four columns\n",
        "        coefficient = numerator / denominator if denominator != 0 else 0  # Handle potential division by zero\n",
        "        closeness_coefficients.append(coefficient)\n",
        "\n",
        "# Append the closeness coefficients to the solution.txt file\n",
        "with open(\"solution.txt\", \"a\") as file:\n",
        "    file.write(\"Closeness Coefficients for each Expert:\\n\")\n",
        "    for i, coefficient in enumerate(closeness_coefficients):\n",
        "        file.write(f\"{expert_matrices_names[i]}: {coefficient:10.5f}\\n\")\n",
        "    file.write(\"\\n\")\n",
        "\n",
        "print(\"Closeness coefficients have been computed and appended to 'solution.txt'\")"
      ],
      "metadata": {
        "colab": {
          "base_uri": "https://localhost:8080/"
        },
        "id": "ItZLrqjoYofC",
        "outputId": "5078cdb4-2df6-4428-f4f9-e50d65bb4d06"
      },
      "execution_count": 236,
      "outputs": [
        {
          "output_type": "stream",
          "name": "stdout",
          "text": [
            "Closeness coefficients have been computed and appended to 'solution.txt'\n"
          ]
        }
      ]
    },
    {
      "cell_type": "markdown",
      "source": [
        "### Calculate **μ** [degree of membership] , **ν** [degree of non-membership] , **π** [degree of hesitation]\n",
        "\n"
      ],
      "metadata": {
        "id": "w2YfWXVNY8yL"
      }
    },
    {
      "cell_type": "code",
      "source": [
        "mu_values = []\n",
        "nu_values = []\n",
        "hesitation_values = []\n",
        "\n",
        "# Compute the values for each IFN\n",
        "for i in range(k):\n",
        "    # Compute mu value\n",
        "    denominator = DistanceMatrix[i, 0] + DistanceMatrix[i, 1]\n",
        "    mu = DistanceMatrix[i, 1] / denominator if denominator != 0 else 0\n",
        "    mu_values.append(mu)\n",
        "\n",
        "    # Compute nu value\n",
        "    nu = 1 - closeness_coefficients[i]\n",
        "    nu_values.append(nu)\n",
        "\n",
        "    # Compute hesitation value\n",
        "    hesitation = 1 - (mu + nu)\n",
        "    hesitation_values.append(hesitation)\n",
        "\n",
        "# Append the table to the solution.txt file\n",
        "with open(\"solution.txt\", \"a\") as file:\n",
        "    file.write(\"Table of  μ, ν, and π values for each Expert:\\n\")\n",
        "    file.write(\"IFN     |      μ     |   ν   | π\\n\")\n",
        "    file.write(\"-\" * 50 + \"\\n\")\n",
        "    for i in range(k):\n",
        "        file.write(f\"{expert_matrices_names[i]:<8}| {mu_values[i]:10.5f} | {nu_values[i]:10.5f} | {hesitation_values[i]:10.5f}\\n\")\n",
        "    file.write(\"\\n\")\n",
        "\n",
        "print(\"Table of  μ, ν, and π values has been appended to 'solution.txt'\")"
      ],
      "metadata": {
        "colab": {
          "base_uri": "https://localhost:8080/"
        },
        "id": "K5YHXQ3uZcRp",
        "outputId": "68369205-4dbd-4d5c-e02a-e402f09c857d"
      },
      "execution_count": 237,
      "outputs": [
        {
          "output_type": "stream",
          "name": "stdout",
          "text": [
            "Table of  μ, ν, and π values has been appended to 'solution.txt'\n"
          ]
        }
      ]
    },
    {
      "cell_type": "markdown",
      "source": [
        "### Weight For Each Expert"
      ],
      "metadata": {
        "id": "Ql0yILCcaBSH"
      }
    },
    {
      "cell_type": "code",
      "source": [
        "# Compute the weights W for each IFN\n",
        "weights = []\n",
        "for i in range(k):\n",
        "    mu = mu_values[i]\n",
        "    nu = nu_values[i]\n",
        "    hesitation = hesitation_values[i]\n",
        "    weight = mu + hesitation * (mu / (mu + nu) if mu + nu != 0 else 0)  # Handle potential division by zero\n",
        "    weights.append(weight)\n",
        "\n",
        "# Compute the normalized weights NW\n",
        "total_weight = sum(weights)\n",
        "normalized_weights = [weight / total_weight if total_weight != 0 else 0 for weight in weights]  # Handle potential division by zero\n",
        "\n",
        "# Append the weights and normalized weights to the solution.txt file\n",
        "with open(\"solution.txt\", \"a\") as file:\n",
        "    file.write(\"Weights (W) and Normalized Weights (NW) for each Expert:\\n\")\n",
        "    file.write(\"Expert     |     W      |     NW\\n\")\n",
        "    file.write(\"-\" * 40 + \"\\n\")\n",
        "    for i in range(k):\n",
        "        file.write(f\"{expert_matrices_names[i] :<8}| {weights[i]:10.5f} | {normalized_weights[i]:10.5f}\\n\")\n",
        "    file.write(\"\\n\")\n",
        "\n",
        "print(\"Weights and normalized weights have been computed and appended to 'solution.txt'\")"
      ],
      "metadata": {
        "colab": {
          "base_uri": "https://localhost:8080/"
        },
        "id": "kmxJeA5naKHA",
        "outputId": "5ec9a3ca-f0a3-4ff5-ac62-634a8f5182ec"
      },
      "execution_count": 238,
      "outputs": [
        {
          "output_type": "stream",
          "name": "stdout",
          "text": [
            "Weights and normalized weights have been computed and appended to 'solution.txt'\n"
          ]
        }
      ]
    },
    {
      "cell_type": "markdown",
      "source": [
        "### Inter-Relationship mining between factors"
      ],
      "metadata": {
        "id": "FGtk-8OTD_H4"
      }
    },
    {
      "cell_type": "markdown",
      "source": [
        "### Defining Function for getting weighted IFN matrix"
      ],
      "metadata": {
        "id": "gfGH5l2AF0AQ"
      }
    },
    {
      "cell_type": "code",
      "source": [
        "def multiply_matrix_and_weight(matrix, weight):\n",
        "    \"\"\"\n",
        "    Multiplies each element of the matrix (each IFN) by the weight.\n",
        "    Since the matrix contains tuples, we'll handle the multiplication element-wise for the tuples.\n",
        "    \"\"\"\n",
        "    weighted_matrix = []\n",
        "    for row in matrix:\n",
        "        weighted_row = [(weight * element[0], weight * element[1]) for element in row]\n",
        "        weighted_matrix.append(weighted_row)\n",
        "    return weighted_matrix"
      ],
      "metadata": {
        "id": "6wCvZhRFF5MM"
      },
      "execution_count": 239,
      "outputs": []
    },
    {
      "cell_type": "markdown",
      "source": [
        "### Get the weighted IFN matrices"
      ],
      "metadata": {
        "id": "KA512KEzF7uf"
      }
    },
    {
      "cell_type": "code",
      "source": [
        "expert_weighted_ifn_matrices = [multiply_matrix_and_weight(matrix, weight) for matrix, weight in zip(ifn_matrices, normalized_weights)]\n",
        "\n",
        "# Writing to the solution file\n",
        "with open('solution.txt', 'a') as file:  # 'a' stands for append mode\n",
        "    file.write(\"\\nExpert Weighted IFN Matrices:\\n\")\n",
        "    for i, matrix in enumerate(expert_weighted_ifn_matrices):\n",
        "        file.write(f\"\\nMatric {i + 1}:\\n\")\n",
        "        for row in matrix:\n",
        "            # Writing each row in a readable format\n",
        "            row_str = ', '.join([f\"({x:.2f}, {y:.2f})\" for x, y in row])\n",
        "            file.write(f\"{row_str}\\n\")\n",
        "\n",
        "print(\"Expert weighted IFN matrices have been written to 'solution.txt'.\")\n"
      ],
      "metadata": {
        "colab": {
          "base_uri": "https://localhost:8080/"
        },
        "id": "9RlwvYWCF-mW",
        "outputId": "83bb23ad-35f7-45e7-9f53-e786485c5676"
      },
      "execution_count": 240,
      "outputs": [
        {
          "output_type": "stream",
          "name": "stdout",
          "text": [
            "Expert weighted IFN matrices have been written to 'solution.txt'.\n"
          ]
        }
      ]
    },
    {
      "cell_type": "markdown",
      "source": [
        "### Generate Intuitionistic Fuzzy Weight Aggregated Inter-influence Matrix (IFWAIIM)"
      ],
      "metadata": {
        "id": "Ifm6hPviIwYm"
      }
    },
    {
      "cell_type": "code",
      "source": [
        "def aggregate_with_dollar_operation(matrices,weights):\n",
        "    \"\"\"\n",
        "    Aggregate multiple IFN matrices using the '$' operation.\n",
        "    \"\"\"\n",
        "    aggregated_matrix = np.zeros((n,n,2))\n",
        "    for i in range(n):\n",
        "      for j in range(n):\n",
        "        e = 0;\n",
        "        result = [1, 1]  # Initialize with neutral element for the $ operation\n",
        "        for ifn_matrix in ifn_matrices:\n",
        "            result = [result[0] * (ifn_matrix[i][j][0]**(weights[e])),result[1]*((1-ifn_matrix[i][j][1])**weights[e])]\n",
        "            e = e+1\n",
        "        aggregated_matrix[i][j] = [result[0],1-result[1]]  # Take the average\n",
        "    return aggregated_matrix\n",
        "\n",
        "\n",
        "# Calculate the IFWAIIM\n",
        "ifwaiim = aggregate_with_dollar_operation(ifn_matrices,normalized_weights)\n",
        "\n",
        "# Writing to the solution file\n",
        "with open('solution.txt', 'a') as file:  # 'a' stands for append mode\n",
        "    file.write(\"\\nIntuitionistic Fuzzy Weight Aggregated Inter-influence Matrix (IFWAIIM):\\n\")\n",
        "    for row in ifwaiim:\n",
        "        # Writing each row in a readable format\n",
        "        row_str = ', '.join([f\"({x:.2f}, {y:.2f})\" for x, y in row])\n",
        "        file.write(f\"{row_str}\\n\")\n",
        "\n",
        "print(\"IFWAIIM has been written to 'solution.txt'.\")\n"
      ],
      "metadata": {
        "colab": {
          "base_uri": "https://localhost:8080/"
        },
        "id": "ARwccJSbI2OG",
        "outputId": "3e4b29fb-26c3-4a7f-e0d5-b4be9f5f104f"
      },
      "execution_count": 241,
      "outputs": [
        {
          "output_type": "stream",
          "name": "stdout",
          "text": [
            "IFWAIIM has been written to 'solution.txt'.\n"
          ]
        }
      ]
    },
    {
      "cell_type": "markdown",
      "source": [
        "### Generate C-IIM (Crisp Inter-Infuence Matrix)"
      ],
      "metadata": {
        "id": "Y_aUu7pDMZ4v"
      }
    },
    {
      "cell_type": "code",
      "source": [
        "def transform_to_crisp_value(ifn):\n",
        "    \"\"\"\n",
        "    Transform an IFN to a crisp value using the formula (mu - nu + 1) / 2.\n",
        "    \"\"\"\n",
        "    mu, nu = ifn\n",
        "    return (mu - nu + 1) / 2\n",
        "\n",
        "def create_ciim(ifwaiim):\n",
        "    \"\"\"\n",
        "    Create the Crisp Inter-Influence Matrix (CIIM) by transforming the IFWAIIM.\n",
        "    \"\"\"\n",
        "    ciim = []\n",
        "    for row in ifwaiim:\n",
        "        crisp_row = [transform_to_crisp_value(ifn) for ifn in row]\n",
        "        ciim.append(crisp_row)\n",
        "    return ciim\n",
        "\n",
        "\n",
        "# Create the CIIM from the IFWAIIM\n",
        "ciim = create_ciim(ifwaiim)\n",
        "\n",
        "# Writing to the solution file\n",
        "with open('solution.txt', 'a') as file:  # 'a' stands for append mode\n",
        "    file.write(\"\\nCrisp Inter-Influence Matrix (CIIM):\\n\")\n",
        "    for row in ciim:\n",
        "        # Writing each row in a readable format\n",
        "        row_str = ', '.join([f\"{value:.2f}\" for value in row])\n",
        "        file.write(f\"{row_str}\\n\")\n",
        "\n",
        "print(\"CIIM has been written to 'solution.txt'.\")"
      ],
      "metadata": {
        "colab": {
          "base_uri": "https://localhost:8080/"
        },
        "id": "qDUh_ndQMfYT",
        "outputId": "128afa99-4cfb-4c01-9de2-06278343c3c0"
      },
      "execution_count": 242,
      "outputs": [
        {
          "output_type": "stream",
          "name": "stdout",
          "text": [
            "CIIM has been written to 'solution.txt'.\n"
          ]
        }
      ]
    },
    {
      "cell_type": "markdown",
      "source": [
        "### Determine the MAXSUM(m*)"
      ],
      "metadata": {
        "id": "KID6Ui0kOtLu"
      }
    },
    {
      "cell_type": "code",
      "source": [
        "# Step 1: Find the maximum in each row and sum these maximums\n",
        "m1 = np.max(np.sum(ciim, axis=1))\n",
        "\n",
        "# Step 2: Find the maximum in each column and sum these maximums\n",
        "m2 = np.max(np.sum(ciim, axis=0))\n",
        "\n",
        "# Step 5: Determine the maximum between 'max_row_sum' and 'max_col_sum'\n",
        "max_value_in_ciim = max(m1, m2)\n",
        "\n",
        "    # Writing to the solution file\n",
        "with open('solution.txt', 'a') as file:  # 'a' stands for append mode\n",
        "    file.write(\"\\n========================================\\n\")  # For emphasis and separation\n",
        "    file.write(f\"Maximum Value in CIIM: {max_value_in_ciim:.2f}\\n\")\n",
        "    file.write(\"========================================\\n\")  # For emphasis and separation\n",
        "\n",
        "print(\"Maximum value in CIIM has been written to 'solution.txt'.\")"
      ],
      "metadata": {
        "colab": {
          "base_uri": "https://localhost:8080/"
        },
        "id": "87IvPpCiOw2O",
        "outputId": "4ad408a4-d5c9-47d9-d94d-fe61a0514b53"
      },
      "execution_count": 243,
      "outputs": [
        {
          "output_type": "stream",
          "name": "stdout",
          "text": [
            "Maximum value in CIIM has been written to 'solution.txt'.\n"
          ]
        }
      ]
    },
    {
      "cell_type": "markdown",
      "source": [
        "### Generate N-IIM (Normalized Inter-Infuence Matrix)"
      ],
      "metadata": {
        "id": "2ndy9mzdPI3f"
      }
    },
    {
      "cell_type": "code",
      "source": [
        "n_iim = [[value / max_value_in_ciim for value in row] for row in ciim]\n",
        "\n",
        "# Writing to the solution file\n",
        "with open('solution.txt', 'a') as file:  # 'a' stands for append mode\n",
        "    file.write(\"\\nNormalized Inter-Influence Matrix (N-IIM):\\n\")\n",
        "    for row in n_iim:\n",
        "        # Writing each row in a readable format\n",
        "        row_str = ', '.join([f\"{value:.6f}\" for value in row])\n",
        "        file.write(f\"{row_str}\\n\")\n",
        "\n",
        "print(\"N-IIM has been written to 'solution.txt'.\")"
      ],
      "metadata": {
        "colab": {
          "base_uri": "https://localhost:8080/"
        },
        "id": "kt6S9-k3PPW-",
        "outputId": "99635cdd-8022-4276-c006-039315ba0689"
      },
      "execution_count": 244,
      "outputs": [
        {
          "output_type": "stream",
          "name": "stdout",
          "text": [
            "N-IIM has been written to 'solution.txt'.\n"
          ]
        }
      ]
    },
    {
      "cell_type": "markdown",
      "source": [
        "### Generate T-IIM (Total Inter-Infuence Matrix)"
      ],
      "metadata": {
        "id": "SSdaSJKaQhL0"
      }
    },
    {
      "cell_type": "code",
      "source": [
        "# Generate an identity matrix of size n x n\n",
        "identity_matrix = np.identity(n)\n",
        "\n",
        "# Calculate (I - n_iim)\n",
        "subtract_matrix = identity_matrix - n_iim\n",
        "try:\n",
        "    # Calculate the inverse of (I - n_iim)\n",
        "    inverse_matrix = np.linalg.inv(subtract_matrix)\n",
        "except np.linalg.LinAlgError:\n",
        "    # Handle the case where the matrix is not invertible\n",
        "    print(\"Error: (I - n_iim) matrix is not invertible.\")\n",
        "    exit()\n",
        "\n",
        "with open('solution.txt', 'a') as file:  # 'a' stands for append mode\n",
        "        file.write(\"\\nInverse of (I - n_iim):\\n\")\n",
        "        for row in inverse_matrix:\n",
        "            row_str = ', '.join([f\"{value:.2f}\" for value in row])\n",
        "            file.write(f\"[{row_str}]\\n\")\n",
        "\n",
        "# Calculate T-IIM: n_iim * (I - n_iim)^-1\n",
        "t_iim =n_iim @ inverse_matrix\n",
        "\n",
        "# Writing to the solution file\n",
        "with open('solution.txt', 'a') as file:  # 'a' stands for append mode\n",
        "    file.write(\"\\nTotal Inter-Influence Matrix (T-IIM):\\n\")\n",
        "    for row in t_iim:\n",
        "        # Writing each row in a readable format\n",
        "        row_str = ', '.join([f\"{value:.2f}\" for value in row])\n",
        "        file.write(f\"{row_str}\\n\")\n",
        "\n",
        "print(\"T-IIM has been written to 'solution.txt'.\")\n",
        "\n",
        "\n"
      ],
      "metadata": {
        "colab": {
          "base_uri": "https://localhost:8080/"
        },
        "id": "Cv48ByVSQkiZ",
        "outputId": "e390b8f8-db15-4d00-c31f-1e092c5906c3"
      },
      "execution_count": 245,
      "outputs": [
        {
          "output_type": "stream",
          "name": "stdout",
          "text": [
            "T-IIM has been written to 'solution.txt'.\n"
          ]
        }
      ]
    },
    {
      "cell_type": "markdown",
      "source": [
        "### Calculating  **α** , **minimum and maximum**\n",
        "\n"
      ],
      "metadata": {
        "id": "3QypL_MSUDrJ"
      }
    },
    {
      "cell_type": "code",
      "source": [
        "# Calculate the average of all elements in the matrix.\n",
        "α = np.mean(t_iim)+(np.std(t_iim)/2)\n",
        "# Find the maximum and minimum values in the matrix\n",
        "max_t_iim = np.max(t_iim)\n",
        "min_t_iim = np.min(t_iim)\n",
        "\n",
        "\n",
        "with open('solution.txt', 'a') as file:  # 'a' stands for append mode\n",
        "    file.write(\"\\n========================================\\n\")  # For emphasis and separation\n",
        "    file.write(f\"Threshold : {α:.4f}\\n\")\n",
        "    file.write(\"========================================\\n\")  # For emphasis and separation\n",
        "    print(\"Threshold α has been written to 'solution.txt'.\")\n",
        "    file.write(\"\\n========================================\\n\")  # For emphasis and separation\n",
        "    file.write(f\"Minimum : {min_t_iim:.4f}\\n\")\n",
        "    file.write(\"========================================\\n\")  # For emphasis and separation\n",
        "    print(\"Minimum value has been written to 'solution.txt'.\")\n",
        "    file.write(\"\\n========================================\\n\")  # For emphasis and separation\n",
        "    file.write(f\"Maximum : {max_t_iim:.4f}\\n\")\n",
        "    file.write(\"========================================\\n\")  # For emphasis and separation\n",
        "    print(\"Maximum value has been written to 'solution.txt'.\")\n",
        "\n",
        "\n"
      ],
      "metadata": {
        "colab": {
          "base_uri": "https://localhost:8080/"
        },
        "id": "Pz4QwuMoUZ9M",
        "outputId": "52861f67-4e65-4ecd-ecd0-16fa2e3a63d8"
      },
      "execution_count": 246,
      "outputs": [
        {
          "output_type": "stream",
          "name": "stdout",
          "text": [
            "Threshold α has been written to 'solution.txt'.\n",
            "Minimum value has been written to 'solution.txt'.\n",
            "Maximum value has been written to 'solution.txt'.\n"
          ]
        }
      ]
    },
    {
      "cell_type": "markdown",
      "source": [
        "### Modified Total Inter-Influence Matrix"
      ],
      "metadata": {
        "id": "5CnEBzZ6zgYJ"
      }
    },
    {
      "cell_type": "code",
      "source": [
        "\n",
        "\n",
        "identity_matrix = np.identity(n)\n",
        "modified_t_iim = t_iim + identity_matrix\n",
        "# Writing to the solution file\n",
        "with open('solution.txt', 'a') as file:  # 'a' stands for append mode\n",
        "    file.write(\"\\nModified Total Inter-Influence Matrix:\\n\")\n",
        "    for row in modified_t_iim:\n",
        "        # Writing each row in a readable format\n",
        "        row_str = ', '.join([f\"{value:.2f}\" for value in row])\n",
        "        file.write(f\"{row_str}\\n\")\n",
        "\n",
        "print(\"Modified T-IIM has been written to 'solution.txt'.\")\n"
      ],
      "metadata": {
        "colab": {
          "base_uri": "https://localhost:8080/"
        },
        "id": "p3-cyZLxK5Z7",
        "outputId": "8c579915-548a-4e29-b8c0-094369918ae4"
      },
      "execution_count": 247,
      "outputs": [
        {
          "output_type": "stream",
          "name": "stdout",
          "text": [
            "Modified T-IIM has been written to 'solution.txt'.\n"
          ]
        }
      ]
    },
    {
      "cell_type": "markdown",
      "source": [
        "### Calculating Reachability Matrix"
      ],
      "metadata": {
        "id": "sbUeMNdZXeZg"
      }
    },
    {
      "cell_type": "code",
      "source": [
        "# prompt: if modified_t_iim value is greater than alpha then 1 else 0 ... call it reachable matrix\n",
        "\n",
        "reachable_matrix = np.where(modified_t_iim >= α, 1, 0)\n",
        "\n",
        "# Writing to the solution file\n",
        "with open('solution.txt', 'a') as file:  # 'a' stands for append mode\n",
        "    file.write(\"\\nReachability Matrix:\\n\")\n",
        "    for row in reachable_matrix:\n",
        "        # Writing each row in a readable format\n",
        "        row_str = ', '.join([f\"{value}\" for value in row])\n",
        "        file.write(f\"{row_str}\\n\")\n",
        "\n",
        "print(\"Reachability Matrix has been written to 'solution.txt'.\")\n"
      ],
      "metadata": {
        "colab": {
          "base_uri": "https://localhost:8080/"
        },
        "id": "DwXR2dVjXnJH",
        "outputId": "c563a918-975a-4822-c9b3-b4a60e2018ab"
      },
      "execution_count": 248,
      "outputs": [
        {
          "output_type": "stream",
          "name": "stdout",
          "text": [
            "Reachability Matrix has been written to 'solution.txt'.\n"
          ]
        }
      ]
    },
    {
      "cell_type": "markdown",
      "source": [
        "### Calculate #influenced, #influent_DA, DAI\n"
      ],
      "metadata": {
        "id": "DqYUvP7EcIdA"
      }
    },
    {
      "cell_type": "code",
      "source": [
        "influenced= np.zeros(n, dtype=int)\n",
        "influent_DA= np.zeros(n, dtype=int)\n",
        "\n",
        "# Generate a random Directly Accessible Index (DAI) list with binary values\n",
        "# Count the number of directly accessible factors influencing each factor\n",
        "dai_values = input(\"Enter the DAI values for each factor separated by space: \")\n",
        "\n",
        "# Split the string into a list of values\n",
        "values_list = dai_values.split()\n",
        "\n",
        "# Convert each value to the desired type, e.g., int, if necessary\n",
        "DAI = [int(value) for value in values_list]\n",
        "# Count the number of directly accessible factors influencing each factor\n",
        "for i in range(n):\n",
        "        for j in range(n):\n",
        "            if reachable_matrix[i, j] == 1 and i!=j:\n",
        "                    influenced[i] += 1\n",
        "            if reachable_matrix[j,i] == 1 and i!=j and DAI[j]==1:\n",
        "                    influent_DA[i] += 1\n",
        "\n",
        "# Write the results to the file in a tabular form\n",
        "with open('solution.txt', 'a') as file:\n",
        "     file.write(\"+--------+-----+-------------+-------------+\\n\")\n",
        "     file.write(\"| Factor | DAI | #Influenced | #Influent_DA |\\n\")\n",
        "     file.write(\"+--------+-----+-------------+-------------+\\n\")\n",
        "     for i in range(n):\n",
        "        file.write(f\"| {i+1:<6} | {DAI[i]:<3} | {influenced[i]:<11} | {influent_DA[i]:<11} |\\n\")\n",
        "        file.write(\"+--------+-----+-------------+-------------+\\n\")"
      ],
      "metadata": {
        "id": "RwIj7nVzcQMZ",
        "colab": {
          "base_uri": "https://localhost:8080/"
        },
        "outputId": "05ccf245-9a11-4283-a913-8ceee912ece6"
      },
      "execution_count": 249,
      "outputs": [
        {
          "name": "stdout",
          "output_type": "stream",
          "text": [
            "Enter the DAI values for each factor separated by space: 1 1 1 1 1 0 1 1 1 1 1 1 1 1 1 1 0 0\n"
          ]
        }
      ]
    },
    {
      "cell_type": "markdown",
      "source": [
        "### Initial level Partitioning"
      ],
      "metadata": {
        "id": "rV1yY6XEcnXi"
      }
    },
    {
      "cell_type": "code",
      "source": [
        "df = pd.DataFrame({\n",
        "        'Factor': np.arange(1,n+1),\n",
        "        'DAI': DAI,\n",
        "        '#Influenced': influenced,\n",
        "        '#Influent_DA': influent_DA\n",
        "    })\n",
        "\n",
        "# Sorting based on the rules provided\n",
        "df.sort_values(by=['#Influent_DA', '#Influenced', 'DAI'], ascending=[True, True, False], inplace=True)\n",
        "\n",
        " # Assign levels and sub-levels\n",
        "df['Level'] = None\n",
        "current_level = 1\n",
        "sublevel_char = 'a'\n",
        "df = df.reset_index(drop=True);\n",
        "for i in range(n):\n",
        "    if i > 0:\n",
        "        same_influent_DA = df.iloc[i]['#Influent_DA'] == df.iloc[i - 1]['#Influent_DA']\n",
        "        same_influenced = df.iloc[i]['#Influenced'] == df.iloc[i - 1]['#Influenced']\n",
        "        same_DAI = df.iloc[i]['DAI'] == df.iloc[i - 1]['DAI']\n",
        "        # print(same_influent_DA,same_influenced,same_DAI)\n",
        "        if not same_influent_DA:\n",
        "            current_level += 1\n",
        "            sublevel_char = 'a'\n",
        "        elif same_influenced and same_DAI:\n",
        "            # same sub-level if all are equal\n",
        "            pass\n",
        "        else:\n",
        "            # next sub-level (a, b, c, ...)\n",
        "            sublevel_char = chr(ord(sublevel_char) + 1)\n",
        "    df.at[i,\"Level\"] = f\"{current_level}-{sublevel_char}\"\n",
        "    # print(df.at[i, 'Level'])\n",
        "df.sort_values(by=['Factor'], ascending=[True], inplace=True)\n",
        "df = df.reset_index(drop=True);\n",
        "print(df)\n",
        "with open(\"solution.txt\", 'a') as file:\n",
        "        file.write(\"Initial Level Partitioning\\n\")\n",
        "        file.write(df.to_string(index=False))\n",
        "        file.write(\"\\n\\n\")\n",
        "print(\"Solution with levels has been written to 'solution_with_levels.txt'.\")"
      ],
      "metadata": {
        "colab": {
          "base_uri": "https://localhost:8080/"
        },
        "id": "56zN8USLcq6G",
        "outputId": "cc4e6209-3224-4802-ddd4-2052dcf774a3"
      },
      "execution_count": 250,
      "outputs": [
        {
          "output_type": "stream",
          "name": "stdout",
          "text": [
            "    Factor  DAI  #Influenced  #Influent_DA Level\n",
            "0        1    1            3             3   4-b\n",
            "1        2    1           12            10   9-a\n",
            "2        3    1            7             4   5-b\n",
            "3        4    1            0             0   1-a\n",
            "4        5    1            0             0   1-a\n",
            "5        6    0            7             8   7-a\n",
            "6        7    1            4             2   3-a\n",
            "7        8    1            3             0   1-b\n",
            "8        9    1            9             9   8-a\n",
            "9       10    1            5             4   5-a\n",
            "10      11    1           11             5   6-b\n",
            "11      12    1            2             3   4-a\n",
            "12      13    1            8             5   6-a\n",
            "13      14    1            0             0   1-a\n",
            "14      15    1           10             2   3-b\n",
            "15      16    1            5             1   2-a\n",
            "16      17    0           14            11  10-a\n",
            "17      18    0           14            12  11-a\n",
            "Solution with levels has been written to 'solution_with_levels.txt'.\n"
          ]
        }
      ]
    },
    {
      "cell_type": "markdown",
      "source": [
        "### Iterative Level Partitioning\n",
        "\n"
      ],
      "metadata": {
        "id": "EXERFzlxdkQM"
      }
    },
    {
      "cell_type": "code",
      "source": [
        "# returns 1 if val1>val2 , -1 if val1<val2 and 0 if both are equal\n",
        "def compare_values(val1, val2):\n",
        "    # Splitting the values into numeric and alphabetic parts\n",
        "    num1, alpha1 = val1.split('-')\n",
        "    num2, alpha2 = val2.split('-')\n",
        "\n",
        "    # Convert numeric parts to integers for comparison\n",
        "    num1, num2 = int(num1), int(num2)\n",
        "\n",
        "    # Compare numeric parts\n",
        "    if num1 > num2:\n",
        "        return 1\n",
        "    elif num1 < num2:\n",
        "        return -1\n",
        "    else:\n",
        "        # If numeric parts are equal, compare alphabetic parts\n",
        "        if alpha1 > alpha2:\n",
        "            return 1\n",
        "        elif alpha1 < alpha2:\n",
        "            return -1\n",
        "        else:\n",
        "            return 0\n",
        "\n",
        "\n",
        "def recalculate_values(df, RM):\n",
        "    # Recalculating #influent_DA and #influenced based on the current level partitioning\n",
        "    n = len(df)\n",
        "    new_influent_DA = np.zeros(n, dtype=int)\n",
        "    new_influenced = np.zeros(n, dtype=int)\n",
        "\n",
        "    for i in range(n):\n",
        "        for j in range(n):\n",
        "            if RM[i, j] == 1 and i!=j:\n",
        "                if compare_values(df.at[i, 'Level'] , df.at[j, 'Level'])==-1:\n",
        "                    new_influenced[i] += 1\n",
        "            if RM[j,i] == 1 and i!=j:\n",
        "                if compare_values(df.at[i, 'Level'] ,df.at[j, 'Level'])==1and DAI[j]==1:\n",
        "                    new_influent_DA[i] += 1\n",
        "\n",
        "    df['#Influent_DA'] = new_influent_DA\n",
        "    df['#Influenced'] = new_influenced\n",
        "    return df\n",
        "\n",
        "def assign_levels(df):\n",
        "  # Sorting and assigning levels\n",
        "  df.sort_values(by=['#Influent_DA', '#Influenced', 'DAI'], ascending=[True, True, False], inplace=True)\n",
        "  df['Level'] = None\n",
        "  current_level = 1\n",
        "  sublevel_char = 'a'\n",
        "  df = df.reset_index(drop=True)\n",
        "  for i in range(n):\n",
        "    if i > 0:\n",
        "        same_influent_DA = df.iloc[i]['#Influent_DA'] == df.iloc[i - 1]['#Influent_DA']\n",
        "        same_influenced = df.iloc[i]['#Influenced'] == df.iloc[i - 1]['#Influenced']\n",
        "        same_DAI = df.iloc[i]['DAI'] == df.iloc[i - 1]['DAI']\n",
        "        # print(same_influent_DA,same_influenced,same_DAI)\n",
        "        if not same_influent_DA:\n",
        "            current_level += 1\n",
        "            sublevel_char = 'a'\n",
        "        elif same_influenced and same_DAI:\n",
        "            # same sub-level if all are equal\n",
        "            pass\n",
        "        else:\n",
        "            # next sub-level (a, b, c, ...)\n",
        "            sublevel_char = chr(ord(sublevel_char) + 1)\n",
        "    df.at[i,\"Level\"] = f\"{current_level}-{sublevel_char}\"\n",
        "    # print(df.at[i, 'Level'])\n",
        "  df.sort_values(by=['Factor'], ascending=[True], inplace=True)\n",
        "  df = df.reset_index(drop=True);\n",
        "  return df\n",
        "\n",
        "def perform_iterations(df, RM):\n",
        "  iteration = 0\n",
        "  history = []\n",
        "  i = 1\n",
        "  while i<20:\n",
        "      df = recalculate_values(df, RM)\n",
        "      df = assign_levels(df)\n",
        "      iteration += 1\n",
        "\n",
        "      # Check if the level partitioning has stabilized\n",
        "      if iteration>1:\n",
        "        print(history[-1])\n",
        "\n",
        "      if iteration > 1 and df.equals(history[-1]):\n",
        "          break\n",
        "\n",
        "      history.append(df.copy())\n",
        "      i = i+1;\n",
        "\n",
        "  return history\n",
        "\n",
        "iterations_history = perform_iterations(df, reachable_matrix)\n",
        "df = iterations_history[-1]\n",
        "# Writing the results to 'solution.txt'\n",
        "with open('solution.txt', 'a') as file:\n",
        "    for i, iteration_df in enumerate(iterations_history, start=1):\n",
        "        file.write(f\"Iteration {i}\\n\")\n",
        "        file.write(iteration_df.to_string(index=False))\n",
        "        file.write(\"\\n\\n\")\n",
        "\n"
      ],
      "metadata": {
        "id": "rDqGpLqfdrpD",
        "colab": {
          "base_uri": "https://localhost:8080/"
        },
        "outputId": "27586425-fef6-4d80-fcf7-b09cd4fb3d6a"
      },
      "execution_count": 251,
      "outputs": [
        {
          "output_type": "stream",
          "name": "stdout",
          "text": [
            "    Factor  DAI  #Influenced  #Influent_DA Level\n",
            "0        1    1            3             1   2-a\n",
            "1        2    1            2            10   7-a\n",
            "2        3    1            7             1   2-c\n",
            "3        4    1            0             0   1-a\n",
            "4        5    1            0             0   1-a\n",
            "5        6    0            4             6   5-a\n",
            "6        7    1            4             0   1-d\n",
            "7        8    1            3             0   1-c\n",
            "8        9    1            3             8   6-a\n",
            "9       10    1            5             1   2-b\n",
            "10      11    1            5             3   4-a\n",
            "11      12    1            2             0   1-b\n",
            "12      13    1            6             2   3-a\n",
            "13      14    1            0             0   1-a\n",
            "14      15    1           10             0   1-f\n",
            "15      16    1            5             0   1-e\n",
            "16      17    0            1            11   8-a\n",
            "17      18    0            0            12   9-a\n"
          ]
        }
      ]
    },
    {
      "cell_type": "markdown",
      "source": [
        "# Factor Ranking Stage"
      ],
      "metadata": {
        "id": "3v1rrmMMPbG1"
      }
    },
    {
      "cell_type": "markdown",
      "source": [
        "## Sub level depth of factors"
      ],
      "metadata": {
        "id": "snViXVFFPeYw"
      }
    },
    {
      "cell_type": "code",
      "source": [
        "def custom_sort(level):\n",
        "    parts = level.split('-')\n",
        "    number = int(parts[0])\n",
        "    letter = parts[1] if len(parts) > 1 else ''\n",
        "    return (number, letter)\n",
        "\n",
        "sorted_df = df.sort_values(by='Level', key=lambda x: x.map(custom_sort))\n",
        "def assign_consecutive_levels(df, level_column='Level'):\n",
        "    \"\"\"\n",
        "    Assigns consecutive integer levels to a DataFrame based on a specified level column.\n",
        "    This function assumes that the DataFrame is already sorted by the level column.\n",
        "    \"\"\"\n",
        "    unique_levels = df[level_column].unique()\n",
        "    level_mapping = {level: i+1 for i, level in enumerate(unique_levels)}\n",
        "\n",
        "    df['SubLevelDepth'] = df[level_column].map(level_mapping)\n",
        "    print(df)\n",
        "    df.sort_values(by=['Factor'], ascending=[True], inplace=True)\n",
        "    return df\n",
        "df = assign_consecutive_levels(sorted_df)\n",
        "with open('solution.txt', 'a') as file:\n",
        "      file.write(f\"Sub Level Depth Of Factors\\n\")\n",
        "      file.write(df.to_string(index=False))\n",
        "      file.write(\"\\n\\n\")\n",
        "print(df)"
      ],
      "metadata": {
        "colab": {
          "base_uri": "https://localhost:8080/"
        },
        "id": "U-wyKRouPi9i",
        "outputId": "4503325d-7ad9-4190-d53e-192685fa4d9d"
      },
      "execution_count": 252,
      "outputs": [
        {
          "output_type": "stream",
          "name": "stdout",
          "text": [
            "    Factor  DAI  #Influenced  #Influent_DA Level  SubLevelDepth\n",
            "3        4    1            0             0   1-a              1\n",
            "4        5    1            0             0   1-a              1\n",
            "13      14    1            0             0   1-a              1\n",
            "11      12    1            2             0   1-b              2\n",
            "7        8    1            3             0   1-c              3\n",
            "6        7    1            4             0   1-d              4\n",
            "15      16    1            5             0   1-e              5\n",
            "14      15    1           10             0   1-f              6\n",
            "0        1    1            3             1   2-a              7\n",
            "9       10    1            5             1   2-b              8\n",
            "2        3    1            7             1   2-c              9\n",
            "12      13    1            6             2   3-a             10\n",
            "10      11    1            5             3   4-a             11\n",
            "5        6    0            4             6   5-a             12\n",
            "8        9    1            3             8   6-a             13\n",
            "1        2    1            2            10   7-a             14\n",
            "16      17    0            1            11   8-a             15\n",
            "17      18    0            0            12   9-a             16\n",
            "    Factor  DAI  #Influenced  #Influent_DA Level  SubLevelDepth\n",
            "0        1    1            3             1   2-a              7\n",
            "1        2    1            2            10   7-a             14\n",
            "2        3    1            7             1   2-c              9\n",
            "3        4    1            0             0   1-a              1\n",
            "4        5    1            0             0   1-a              1\n",
            "5        6    0            4             6   5-a             12\n",
            "6        7    1            4             0   1-d              4\n",
            "7        8    1            3             0   1-c              3\n",
            "8        9    1            3             8   6-a             13\n",
            "9       10    1            5             1   2-b              8\n",
            "10      11    1            5             3   4-a             11\n",
            "11      12    1            2             0   1-b              2\n",
            "12      13    1            6             2   3-a             10\n",
            "13      14    1            0             0   1-a              1\n",
            "14      15    1           10             0   1-f              6\n",
            "15      16    1            5             0   1-e              5\n",
            "16      17    0            1            11   8-a             15\n",
            "17      18    0            0            12   9-a             16\n"
          ]
        }
      ]
    },
    {
      "cell_type": "markdown",
      "source": [
        "## Upper Level Drive (uld) and Lower Level Dependence (lldp)"
      ],
      "metadata": {
        "id": "Y1wfkjc0aiOy"
      }
    },
    {
      "cell_type": "code",
      "source": [
        "def influeneced_higher_depth_TIIM(df, TIIM):\n",
        "    sums = []\n",
        "    for index, row in df.iterrows():\n",
        "        current_level = row['Level']\n",
        "        # Sum TIIM values for factors influenced by the current factor and having a higher level\n",
        "        sum_val = sum(TIIM[row['Factor'] - 1, i] for i in range(len(df)) if df.at[i, 'Level'] > current_level)\n",
        "        sums.append(sum_val)\n",
        "    return sums\n",
        "\n",
        "def influent_lower_depth_TIIM(df, TIIM):\n",
        "    sums = []\n",
        "    for index, row in df.iterrows():\n",
        "        current_level = row['Level']\n",
        "        # Sum TIIM values for factors influenced by the current factor and having a higher level\n",
        "        sum_val = sum(TIIM[i,row['Factor'] - 1] for i in range(len(df)) if df.at[i, 'Level'] < current_level)\n",
        "        sums.append(sum_val)\n",
        "    return sums\n",
        "# Apply the function to the DataFrame\n",
        "df['ULD'] = influeneced_higher_depth_TIIM(df, t_iim)\n",
        "df['LLD'] = influent_lower_depth_TIIM(df, t_iim)\n",
        "print(df)"
      ],
      "metadata": {
        "colab": {
          "base_uri": "https://localhost:8080/"
        },
        "id": "t2WV7H47a5qY",
        "outputId": "3f94b5f5-5b1e-42a9-ee07-139cb7619ba9"
      },
      "execution_count": 253,
      "outputs": [
        {
          "output_type": "stream",
          "name": "stdout",
          "text": [
            "    Factor  DAI  #Influenced  #Influent_DA Level  SubLevelDepth       ULD  \\\n",
            "0        1    1            3             1   2-a              7  1.623923   \n",
            "1        2    1            2            10   7-a             14  0.476587   \n",
            "2        3    1            7             1   2-c              9  1.438237   \n",
            "3        4    1            0             0   1-a              1  1.616010   \n",
            "4        5    1            0             0   1-a              1  1.991570   \n",
            "5        6    0            4             6   5-a             12  0.836452   \n",
            "6        7    1            4             0   1-d              4  2.079077   \n",
            "7        8    1            3             0   1-c              3  2.183703   \n",
            "8        9    1            3             8   6-a             13  0.654545   \n",
            "9       10    1            5             1   2-b              8  1.525301   \n",
            "10      11    1            5             3   4-a             11  1.136714   \n",
            "11      12    1            2             0   1-b              2  2.214701   \n",
            "12      13    1            6             2   3-a             10  1.242897   \n",
            "13      14    1            0             0   1-a              1  1.903257   \n",
            "14      15    1           10             0   1-f              6  1.974594   \n",
            "15      16    1            5             0   1-e              5  2.052095   \n",
            "16      17    0            1            11   8-a             15  0.264147   \n",
            "17      18    0            0            12   9-a             16  0.000000   \n",
            "\n",
            "         LLD  \n",
            "0   1.160447  \n",
            "1   2.786922  \n",
            "2   1.594641  \n",
            "3   0.000000  \n",
            "4   0.000000  \n",
            "5   2.280191  \n",
            "6   0.653310  \n",
            "7   0.422160  \n",
            "8   2.540214  \n",
            "9   1.321620  \n",
            "10  1.961609  \n",
            "11  0.317671  \n",
            "12  1.760543  \n",
            "13  0.000000  \n",
            "14  0.920875  \n",
            "15  0.779680  \n",
            "16  3.187000  \n",
            "17  3.526927  \n"
          ]
        }
      ]
    },
    {
      "cell_type": "markdown",
      "source": [
        "### Total Drive and Total Dependence of Factors"
      ],
      "metadata": {
        "id": "HCvFilKpdjTO"
      }
    },
    {
      "cell_type": "code",
      "source": [
        "def total_drive(df, TIIM):\n",
        "    sums = []\n",
        "    for index, row in df.iterrows():\n",
        "        # Sum TIIM values for factors influenced by the current factor and having a higher level\n",
        "        sum_val = sum(TIIM[row['Factor'] - 1, i] for i in range(len(df)))\n",
        "        sums.append(sum_val)\n",
        "    return sums\n",
        "\n",
        "def total_dependence(df, TIIM):\n",
        "    sums = []\n",
        "    for index, row in df.iterrows():\n",
        "        current_level = row['Level']\n",
        "        # Sum TIIM values for factors influenced by the current factor and having a higher level\n",
        "        sum_val = sum(TIIM[i,row['Factor'] - 1] for i in range(len(df)))\n",
        "        sums.append(sum_val)\n",
        "    return sums\n",
        "\n",
        "df['TotalDrive'] = total_drive(df,t_iim)\n",
        "df['TotalDependence'] = total_dependence(df,t_iim)"
      ],
      "metadata": {
        "id": "Sop8qnWLeU01"
      },
      "execution_count": 254,
      "outputs": []
    },
    {
      "cell_type": "markdown",
      "source": [
        "### Sub Level Index (SLI) Calculation"
      ],
      "metadata": {
        "id": "7ehky6Ccf0Xv"
      }
    },
    {
      "cell_type": "code",
      "source": [
        "\n",
        "df['SLI'] = [DF/(n-DF+1) for DF in df['SubLevelDepth']]\n",
        "sli_counts = df['SLI'].value_counts()\n",
        "multi_occurrence_sli = sli_counts[sli_counts > 1].index\n",
        "\n",
        "def correct_sli(x):\n",
        "  DF = df['SubLevelDepth'][x]\n",
        "  k = df['SLI'][x] + 0.5*(((DF+1)/(n-DF))-df['SLI'][x])*((df['ULD'][x]/df['TotalDrive'][x])+(df['LLD'][x]/df['TotalDependence'][x]) )\n",
        "  return k\n",
        "# Apply the formula to elements with more than one occurrence, keep original values for others\n",
        "df['IMP_F'] = [correct_sli(i) if df.at[i, 'SLI'] in multi_occurrence_sli else df.at[i, 'SLI'] for i in df.index]\n",
        "df['n_sig'] = df['IMP_F'] / sum(df['IMP_F'])\n",
        "df_sorted_for_ranking = df.sort_values(by='IMP_F', ascending=False)\n",
        "df_sorted_for_ranking['Rank'] = range(1, len(df) + 1)\n",
        "\n",
        "# Add the rank back to the original DataFrame\n",
        "df = df.join(df_sorted_for_ranking['Rank'], how='left')\n",
        "with open('solution.txt', 'a') as file:\n",
        "      file.write(f\"Importance Of Factors\\n\")\n",
        "      file.write(df.to_string(index=False))\n",
        "      file.write(\"\\n\\n\")\n",
        "print(df)"
      ],
      "metadata": {
        "id": "Vs9eig_Vf5h6",
        "colab": {
          "base_uri": "https://localhost:8080/"
        },
        "outputId": "b13a8198-324f-405a-889f-d817fc90f2e2"
      },
      "execution_count": 255,
      "outputs": [
        {
          "output_type": "stream",
          "name": "stdout",
          "text": [
            "    Factor  DAI  #Influenced  #Influent_DA Level  SubLevelDepth       ULD  \\\n",
            "0        1    1            3             1   2-a              7  1.623923   \n",
            "1        2    1            2            10   7-a             14  0.476587   \n",
            "2        3    1            7             1   2-c              9  1.438237   \n",
            "3        4    1            0             0   1-a              1  1.616010   \n",
            "4        5    1            0             0   1-a              1  1.991570   \n",
            "5        6    0            4             6   5-a             12  0.836452   \n",
            "6        7    1            4             0   1-d              4  2.079077   \n",
            "7        8    1            3             0   1-c              3  2.183703   \n",
            "8        9    1            3             8   6-a             13  0.654545   \n",
            "9       10    1            5             1   2-b              8  1.525301   \n",
            "10      11    1            5             3   4-a             11  1.136714   \n",
            "11      12    1            2             0   1-b              2  2.214701   \n",
            "12      13    1            6             2   3-a             10  1.242897   \n",
            "13      14    1            0             0   1-a              1  1.903257   \n",
            "14      15    1           10             0   1-f              6  1.974594   \n",
            "15      16    1            5             0   1-e              5  2.052095   \n",
            "16      17    0            1            11   8-a             15  0.264147   \n",
            "17      18    0            0            12   9-a             16  0.000000   \n",
            "\n",
            "         LLD  TotalDrive  TotalDependence       SLI     IMP_F     n_sig  Rank  \n",
            "0   1.160447    2.830055         3.025019  0.583333  0.583333  0.026394    10  \n",
            "1   2.786922    3.509689         3.469998  2.800000  2.800000  0.126690     3  \n",
            "2   1.594641    3.173505         3.198559  0.900000  0.900000  0.040722     8  \n",
            "3   0.000000    1.827837         1.501286  0.055556  0.083003  0.003756    18  \n",
            "4   0.000000    2.249858         1.917751  0.055556  0.083037  0.003757    17  \n",
            "5   2.280191    3.079718         3.364107  1.714286  1.714286  0.077565     5  \n",
            "6   0.653310    2.815644         2.881760  0.266667  0.266667  0.012066    13  \n",
            "7   0.422160    2.730258         2.645566  0.187500  0.187500  0.008484    14  \n",
            "8   2.540214    3.141669         3.440758  2.166667  2.166667  0.098034     4  \n",
            "9   1.321620    2.911502         3.055485  0.727273  0.727273  0.032907     9  \n",
            "10  1.961609    3.407257         3.206287  1.375000  1.375000  0.062214     6  \n",
            "11  0.317671    2.591984         2.998264  0.117647  0.117647  0.005323    15  \n",
            "12  1.760543    3.095665         3.204825  1.111111  1.111111  0.050274     7  \n",
            "13  0.000000    2.104123         2.181159  0.055556  0.083638  0.003784    16  \n",
            "14  0.920875    3.039519         2.928546  0.461538  0.461538  0.020883    11  \n",
            "15  0.779680    2.983657         2.862604  0.357143  0.357143  0.016159    12  \n",
            "16  3.187000    3.819594         3.665022  3.750000  3.750000  0.169674     2  \n",
            "17  3.526927    3.982894         3.747434  5.333333  5.333333  0.241314     1  \n"
          ]
        }
      ]
    },
    {
      "cell_type": "markdown",
      "source": [
        "### keep only significant factor && Assign Blocks to each factor"
      ],
      "metadata": {
        "id": "ht_L-KQ5ie1j"
      }
    },
    {
      "cell_type": "code",
      "source": [
        "df = df[(df['#Influenced'] != 0) | (df['#Influent_DA'] != 0)]\n",
        "\n",
        "df['Level'] = df['Level'].astype(str)\n",
        "df['Factor'] = df['Factor'].astype(int)\n",
        "df['Bucket'] = df['Level'].apply(lambda x: int(x.split('-')[0]))\n",
        "\n",
        "# Sorting by the integer part and then assigning bucket numbers\n",
        "df = df.sort_values(by='Bucket')\n",
        "df['Block'] = df['Bucket'].rank(method='dense').astype(int)\n",
        "df = df.sort_values(by='Level', key=lambda x: x.map(custom_sort))\n",
        "df = df.reset_index(drop=True);\n",
        "\n",
        "df.drop('Bucket', axis=1, inplace=True)  # Dropping the intermediate 'Bucket' column\n",
        "with open('solution.txt', 'a') as file:\n",
        "      file.write(f\"Blocks Assignment to each significant factor\\n\")\n",
        "      file.write(df.to_string(index=False))\n",
        "      file.write(\"\\n\\n\")\n",
        "print(df)"
      ],
      "metadata": {
        "id": "zNxIhUGdieFQ",
        "colab": {
          "base_uri": "https://localhost:8080/"
        },
        "outputId": "43d433b9-2608-4da6-babc-3fd62861844b"
      },
      "execution_count": 256,
      "outputs": [
        {
          "output_type": "stream",
          "name": "stdout",
          "text": [
            "    Factor  DAI  #Influenced  #Influent_DA Level  SubLevelDepth       ULD  \\\n",
            "0       12    1            2             0   1-b              2  2.214701   \n",
            "1        8    1            3             0   1-c              3  2.183703   \n",
            "2        7    1            4             0   1-d              4  2.079077   \n",
            "3       16    1            5             0   1-e              5  2.052095   \n",
            "4       15    1           10             0   1-f              6  1.974594   \n",
            "5        1    1            3             1   2-a              7  1.623923   \n",
            "6       10    1            5             1   2-b              8  1.525301   \n",
            "7        3    1            7             1   2-c              9  1.438237   \n",
            "8       13    1            6             2   3-a             10  1.242897   \n",
            "9       11    1            5             3   4-a             11  1.136714   \n",
            "10       6    0            4             6   5-a             12  0.836452   \n",
            "11       9    1            3             8   6-a             13  0.654545   \n",
            "12       2    1            2            10   7-a             14  0.476587   \n",
            "13      17    0            1            11   8-a             15  0.264147   \n",
            "14      18    0            0            12   9-a             16  0.000000   \n",
            "\n",
            "         LLD  TotalDrive  TotalDependence       SLI     IMP_F     n_sig  Rank  \\\n",
            "0   0.317671    2.591984         2.998264  0.117647  0.117647  0.005323    15   \n",
            "1   0.422160    2.730258         2.645566  0.187500  0.187500  0.008484    14   \n",
            "2   0.653310    2.815644         2.881760  0.266667  0.266667  0.012066    13   \n",
            "3   0.779680    2.983657         2.862604  0.357143  0.357143  0.016159    12   \n",
            "4   0.920875    3.039519         2.928546  0.461538  0.461538  0.020883    11   \n",
            "5   1.160447    2.830055         3.025019  0.583333  0.583333  0.026394    10   \n",
            "6   1.321620    2.911502         3.055485  0.727273  0.727273  0.032907     9   \n",
            "7   1.594641    3.173505         3.198559  0.900000  0.900000  0.040722     8   \n",
            "8   1.760543    3.095665         3.204825  1.111111  1.111111  0.050274     7   \n",
            "9   1.961609    3.407257         3.206287  1.375000  1.375000  0.062214     6   \n",
            "10  2.280191    3.079718         3.364107  1.714286  1.714286  0.077565     5   \n",
            "11  2.540214    3.141669         3.440758  2.166667  2.166667  0.098034     4   \n",
            "12  2.786922    3.509689         3.469998  2.800000  2.800000  0.126690     3   \n",
            "13  3.187000    3.819594         3.665022  3.750000  3.750000  0.169674     2   \n",
            "14  3.526927    3.982894         3.747434  5.333333  5.333333  0.241314     1   \n",
            "\n",
            "    Block  \n",
            "0       1  \n",
            "1       1  \n",
            "2       1  \n",
            "3       1  \n",
            "4       1  \n",
            "5       2  \n",
            "6       2  \n",
            "7       2  \n",
            "8       3  \n",
            "9       4  \n",
            "10      5  \n",
            "11      6  \n",
            "12      7  \n",
            "13      8  \n",
            "14      9  \n"
          ]
        }
      ]
    },
    {
      "cell_type": "markdown",
      "source": [
        "## Calculate Normalized Direct Influence Matrix"
      ],
      "metadata": {
        "id": "epqmBYn6r0OU"
      }
    },
    {
      "cell_type": "code",
      "source": [
        "n_dim = [[ciim[i][j] / sum(row) for j in range(n)] for i, row in enumerate(ciim)]\n",
        "\n",
        "with open('solution.txt', 'a') as file:  # 'a' stands for append mode\n",
        "    file.write(\"\\nNormalized Direct Influence Matrix (NDIM):\\n\")\n",
        "    for row in n_dim:\n",
        "        # Writing each row in a readable format\n",
        "        row_str = ', '.join([f\"{value:.6f}\" for value in row])\n",
        "        file.write(f\"{row_str}\\n\")\n",
        "    file.write(\"\\n\")\n",
        "print(\"NDIM has been written to 'solution.txt'.\")\n"
      ],
      "metadata": {
        "colab": {
          "base_uri": "https://localhost:8080/"
        },
        "id": "r3dArwfwr-uK",
        "outputId": "446ae18d-7e99-46db-e044-1e044743ce84"
      },
      "execution_count": 257,
      "outputs": [
        {
          "output_type": "stream",
          "name": "stdout",
          "text": [
            "NDIM has been written to 'solution.txt'.\n"
          ]
        }
      ]
    },
    {
      "cell_type": "markdown",
      "source": [
        "### Calculate D matrix"
      ],
      "metadata": {
        "id": "3QuYXRadwYEO"
      }
    },
    {
      "cell_type": "code",
      "source": [
        "def calculate_d_matrix(df, ndim):\n",
        "    num_factors = len(df)\n",
        "    D = np.zeros((num_factors, num_factors))\n",
        "\n",
        "    # Helper function to determine if two factors are in the same or successive blocks\n",
        "    def in_same_or_successive_blocks(i, j):\n",
        "        return df.at[i, 'Block'] - df.at[j, 'Block']==0 or df.at[i, 'Block'] - df.at[j, 'Block']==-1\n",
        "\n",
        "    # Function to calculate d'(i, j) using recursion\n",
        "    def d_prime(i, j):\n",
        "        # Base case: if i and j are in the same or successive blocks\n",
        "        if in_same_or_successive_blocks(i, j):\n",
        "            return ndim[df.at[i, 'Factor'] - 1, df.at[j, 'Factor'] - 1]\n",
        "        if(df.at[i, 'Block'] > df.at[j, 'Block']):\n",
        "            return 0\n",
        "\n",
        "        # Recursive case: calculate using intermediate factors\n",
        "        sum_intermediate = 0\n",
        "        for k in range(num_factors):\n",
        "            # Only consider intermediate higher-level factors\n",
        "            if df.at[k, 'Block'] > df.at[i, 'Block'] and df.at[k, 'Block'] < df.at[j, 'Block']:\n",
        "                sum_intermediate += ndim[df.at[i,'Factor']-1, df.at[k,'Factor']-1]*d_prime(k, j)\n",
        "\n",
        "        return ndim[df.at[i,'Factor']-1, df.at[j,'Factor']-1] + sum_intermediate\n",
        "\n",
        "    # Fill the D matrix\n",
        "    for i in range(num_factors):\n",
        "        for j in range(num_factors):\n",
        "            D[i, j] = d_prime(i, j)\n",
        "\n",
        "    return D\n",
        "\n",
        "\n",
        "n_dim = np.array(n_dim)\n",
        "D_matrix = calculate_d_matrix(df, n_dim)\n",
        "D_matrix_df = pd.DataFrame(D_matrix, index=df['Factor'], columns=df['Factor'])\n",
        "with open('solution.txt', 'a') as file:\n",
        "      file.write(f\"\\n*******D_Matrics*******\\n\")\n",
        "      file.write(D_matrix_df.to_string())\n",
        "      file.write(\"\\n\\n\")"
      ],
      "metadata": {
        "id": "tbvCT2ewwbjF"
      },
      "execution_count": 258,
      "outputs": []
    },
    {
      "cell_type": "markdown",
      "source": [
        "### UEPF of factors"
      ],
      "metadata": {
        "id": "x3kpiwCH6HOP"
      }
    },
    {
      "cell_type": "code",
      "source": [
        "df['UEPF'] = 0\n",
        "df.at[len(df)-1,'UEPF'] = df.at[len(df)-1,'n_sig'];\n",
        "for i in range(len(df)-2, -1, -1):\n",
        "  j=i\n",
        "  uepfsum=0\n",
        "  while j < len(df):\n",
        "    if(df.at[j,'Block']!=df.at[i,'Block']):\n",
        "      uepfsum = uepfsum + D_matrix[i,j]*df.at[j,'UEPF']\n",
        "    j=j+1\n",
        "  df.at[i,'UEPF']=df.at[i,'n_sig']+uepfsum\n",
        "\n",
        "with open('solution.txt', 'a') as file:\n",
        "      file.write(f\"*******UEPF VALUES*******\\n\")\n",
        "      file.write(df.to_string())\n",
        "      file.write(\"\\n\\n\")"
      ],
      "metadata": {
        "id": "YDs6QlQL6F6e"
      },
      "execution_count": 259,
      "outputs": []
    },
    {
      "cell_type": "markdown",
      "source": [
        "### Table for Factor,UEPF,n_sig"
      ],
      "metadata": {
        "id": "OJPl1zpsW-sx"
      }
    },
    {
      "cell_type": "code",
      "source": [
        "table_1 = pd.DataFrame({\n",
        "    'Factor':df['Factor'],\n",
        "    'N_SIG':df['n_sig'],\n",
        "    'UEPF':df['UEPF']\n",
        "\n",
        "})\n",
        "table_1"
      ],
      "metadata": {
        "colab": {
          "base_uri": "https://localhost:8080/",
          "height": 519
        },
        "id": "RdT52oWKXFoZ",
        "outputId": "1dcd1a39-4650-49d4-9ee2-e20071843b26"
      },
      "execution_count": 260,
      "outputs": [
        {
          "output_type": "execute_result",
          "data": {
            "text/plain": [
              "    Factor     N_SIG      UEPF\n",
              "0       12  0.005323  0.149761\n",
              "1        8  0.008484  0.155130\n",
              "2        7  0.012066  0.146930\n",
              "3       16  0.016159  0.159407\n",
              "4       15  0.020883  0.176601\n",
              "5        1  0.026394  0.122179\n",
              "6       10  0.032907  0.133654\n",
              "7        3  0.040722  0.135362\n",
              "8       13  0.050274  0.139248\n",
              "9       11  0.062214  0.131328\n",
              "10       6  0.077565  0.136497\n",
              "11       9  0.098034  0.146133\n",
              "12       2  0.126690  0.154769\n",
              "13      17  0.169674  0.185588\n",
              "14      18  0.241314  0.241314"
            ],
            "text/html": [
              "\n",
              "  <div id=\"df-9819d4d1-f749-444d-b5ab-6866135e5396\" class=\"colab-df-container\">\n",
              "    <div>\n",
              "<style scoped>\n",
              "    .dataframe tbody tr th:only-of-type {\n",
              "        vertical-align: middle;\n",
              "    }\n",
              "\n",
              "    .dataframe tbody tr th {\n",
              "        vertical-align: top;\n",
              "    }\n",
              "\n",
              "    .dataframe thead th {\n",
              "        text-align: right;\n",
              "    }\n",
              "</style>\n",
              "<table border=\"1\" class=\"dataframe\">\n",
              "  <thead>\n",
              "    <tr style=\"text-align: right;\">\n",
              "      <th></th>\n",
              "      <th>Factor</th>\n",
              "      <th>N_SIG</th>\n",
              "      <th>UEPF</th>\n",
              "    </tr>\n",
              "  </thead>\n",
              "  <tbody>\n",
              "    <tr>\n",
              "      <th>0</th>\n",
              "      <td>12</td>\n",
              "      <td>0.005323</td>\n",
              "      <td>0.149761</td>\n",
              "    </tr>\n",
              "    <tr>\n",
              "      <th>1</th>\n",
              "      <td>8</td>\n",
              "      <td>0.008484</td>\n",
              "      <td>0.155130</td>\n",
              "    </tr>\n",
              "    <tr>\n",
              "      <th>2</th>\n",
              "      <td>7</td>\n",
              "      <td>0.012066</td>\n",
              "      <td>0.146930</td>\n",
              "    </tr>\n",
              "    <tr>\n",
              "      <th>3</th>\n",
              "      <td>16</td>\n",
              "      <td>0.016159</td>\n",
              "      <td>0.159407</td>\n",
              "    </tr>\n",
              "    <tr>\n",
              "      <th>4</th>\n",
              "      <td>15</td>\n",
              "      <td>0.020883</td>\n",
              "      <td>0.176601</td>\n",
              "    </tr>\n",
              "    <tr>\n",
              "      <th>5</th>\n",
              "      <td>1</td>\n",
              "      <td>0.026394</td>\n",
              "      <td>0.122179</td>\n",
              "    </tr>\n",
              "    <tr>\n",
              "      <th>6</th>\n",
              "      <td>10</td>\n",
              "      <td>0.032907</td>\n",
              "      <td>0.133654</td>\n",
              "    </tr>\n",
              "    <tr>\n",
              "      <th>7</th>\n",
              "      <td>3</td>\n",
              "      <td>0.040722</td>\n",
              "      <td>0.135362</td>\n",
              "    </tr>\n",
              "    <tr>\n",
              "      <th>8</th>\n",
              "      <td>13</td>\n",
              "      <td>0.050274</td>\n",
              "      <td>0.139248</td>\n",
              "    </tr>\n",
              "    <tr>\n",
              "      <th>9</th>\n",
              "      <td>11</td>\n",
              "      <td>0.062214</td>\n",
              "      <td>0.131328</td>\n",
              "    </tr>\n",
              "    <tr>\n",
              "      <th>10</th>\n",
              "      <td>6</td>\n",
              "      <td>0.077565</td>\n",
              "      <td>0.136497</td>\n",
              "    </tr>\n",
              "    <tr>\n",
              "      <th>11</th>\n",
              "      <td>9</td>\n",
              "      <td>0.098034</td>\n",
              "      <td>0.146133</td>\n",
              "    </tr>\n",
              "    <tr>\n",
              "      <th>12</th>\n",
              "      <td>2</td>\n",
              "      <td>0.126690</td>\n",
              "      <td>0.154769</td>\n",
              "    </tr>\n",
              "    <tr>\n",
              "      <th>13</th>\n",
              "      <td>17</td>\n",
              "      <td>0.169674</td>\n",
              "      <td>0.185588</td>\n",
              "    </tr>\n",
              "    <tr>\n",
              "      <th>14</th>\n",
              "      <td>18</td>\n",
              "      <td>0.241314</td>\n",
              "      <td>0.241314</td>\n",
              "    </tr>\n",
              "  </tbody>\n",
              "</table>\n",
              "</div>\n",
              "    <div class=\"colab-df-buttons\">\n",
              "\n",
              "  <div class=\"colab-df-container\">\n",
              "    <button class=\"colab-df-convert\" onclick=\"convertToInteractive('df-9819d4d1-f749-444d-b5ab-6866135e5396')\"\n",
              "            title=\"Convert this dataframe to an interactive table.\"\n",
              "            style=\"display:none;\">\n",
              "\n",
              "  <svg xmlns=\"http://www.w3.org/2000/svg\" height=\"24px\" viewBox=\"0 -960 960 960\">\n",
              "    <path d=\"M120-120v-720h720v720H120Zm60-500h600v-160H180v160Zm220 220h160v-160H400v160Zm0 220h160v-160H400v160ZM180-400h160v-160H180v160Zm440 0h160v-160H620v160ZM180-180h160v-160H180v160Zm440 0h160v-160H620v160Z\"/>\n",
              "  </svg>\n",
              "    </button>\n",
              "\n",
              "  <style>\n",
              "    .colab-df-container {\n",
              "      display:flex;\n",
              "      gap: 12px;\n",
              "    }\n",
              "\n",
              "    .colab-df-convert {\n",
              "      background-color: #E8F0FE;\n",
              "      border: none;\n",
              "      border-radius: 50%;\n",
              "      cursor: pointer;\n",
              "      display: none;\n",
              "      fill: #1967D2;\n",
              "      height: 32px;\n",
              "      padding: 0 0 0 0;\n",
              "      width: 32px;\n",
              "    }\n",
              "\n",
              "    .colab-df-convert:hover {\n",
              "      background-color: #E2EBFA;\n",
              "      box-shadow: 0px 1px 2px rgba(60, 64, 67, 0.3), 0px 1px 3px 1px rgba(60, 64, 67, 0.15);\n",
              "      fill: #174EA6;\n",
              "    }\n",
              "\n",
              "    .colab-df-buttons div {\n",
              "      margin-bottom: 4px;\n",
              "    }\n",
              "\n",
              "    [theme=dark] .colab-df-convert {\n",
              "      background-color: #3B4455;\n",
              "      fill: #D2E3FC;\n",
              "    }\n",
              "\n",
              "    [theme=dark] .colab-df-convert:hover {\n",
              "      background-color: #434B5C;\n",
              "      box-shadow: 0px 1px 3px 1px rgba(0, 0, 0, 0.15);\n",
              "      filter: drop-shadow(0px 1px 2px rgba(0, 0, 0, 0.3));\n",
              "      fill: #FFFFFF;\n",
              "    }\n",
              "  </style>\n",
              "\n",
              "    <script>\n",
              "      const buttonEl =\n",
              "        document.querySelector('#df-9819d4d1-f749-444d-b5ab-6866135e5396 button.colab-df-convert');\n",
              "      buttonEl.style.display =\n",
              "        google.colab.kernel.accessAllowed ? 'block' : 'none';\n",
              "\n",
              "      async function convertToInteractive(key) {\n",
              "        const element = document.querySelector('#df-9819d4d1-f749-444d-b5ab-6866135e5396');\n",
              "        const dataTable =\n",
              "          await google.colab.kernel.invokeFunction('convertToInteractive',\n",
              "                                                    [key], {});\n",
              "        if (!dataTable) return;\n",
              "\n",
              "        const docLinkHtml = 'Like what you see? Visit the ' +\n",
              "          '<a target=\"_blank\" href=https://colab.research.google.com/notebooks/data_table.ipynb>data table notebook</a>'\n",
              "          + ' to learn more about interactive tables.';\n",
              "        element.innerHTML = '';\n",
              "        dataTable['output_type'] = 'display_data';\n",
              "        await google.colab.output.renderOutput(dataTable, element);\n",
              "        const docLink = document.createElement('div');\n",
              "        docLink.innerHTML = docLinkHtml;\n",
              "        element.appendChild(docLink);\n",
              "      }\n",
              "    </script>\n",
              "  </div>\n",
              "\n",
              "\n",
              "<div id=\"df-41742d12-9e37-47a2-b197-0e7077facba1\">\n",
              "  <button class=\"colab-df-quickchart\" onclick=\"quickchart('df-41742d12-9e37-47a2-b197-0e7077facba1')\"\n",
              "            title=\"Suggest charts\"\n",
              "            style=\"display:none;\">\n",
              "\n",
              "<svg xmlns=\"http://www.w3.org/2000/svg\" height=\"24px\"viewBox=\"0 0 24 24\"\n",
              "     width=\"24px\">\n",
              "    <g>\n",
              "        <path d=\"M19 3H5c-1.1 0-2 .9-2 2v14c0 1.1.9 2 2 2h14c1.1 0 2-.9 2-2V5c0-1.1-.9-2-2-2zM9 17H7v-7h2v7zm4 0h-2V7h2v10zm4 0h-2v-4h2v4z\"/>\n",
              "    </g>\n",
              "</svg>\n",
              "  </button>\n",
              "\n",
              "<style>\n",
              "  .colab-df-quickchart {\n",
              "      --bg-color: #E8F0FE;\n",
              "      --fill-color: #1967D2;\n",
              "      --hover-bg-color: #E2EBFA;\n",
              "      --hover-fill-color: #174EA6;\n",
              "      --disabled-fill-color: #AAA;\n",
              "      --disabled-bg-color: #DDD;\n",
              "  }\n",
              "\n",
              "  [theme=dark] .colab-df-quickchart {\n",
              "      --bg-color: #3B4455;\n",
              "      --fill-color: #D2E3FC;\n",
              "      --hover-bg-color: #434B5C;\n",
              "      --hover-fill-color: #FFFFFF;\n",
              "      --disabled-bg-color: #3B4455;\n",
              "      --disabled-fill-color: #666;\n",
              "  }\n",
              "\n",
              "  .colab-df-quickchart {\n",
              "    background-color: var(--bg-color);\n",
              "    border: none;\n",
              "    border-radius: 50%;\n",
              "    cursor: pointer;\n",
              "    display: none;\n",
              "    fill: var(--fill-color);\n",
              "    height: 32px;\n",
              "    padding: 0;\n",
              "    width: 32px;\n",
              "  }\n",
              "\n",
              "  .colab-df-quickchart:hover {\n",
              "    background-color: var(--hover-bg-color);\n",
              "    box-shadow: 0 1px 2px rgba(60, 64, 67, 0.3), 0 1px 3px 1px rgba(60, 64, 67, 0.15);\n",
              "    fill: var(--button-hover-fill-color);\n",
              "  }\n",
              "\n",
              "  .colab-df-quickchart-complete:disabled,\n",
              "  .colab-df-quickchart-complete:disabled:hover {\n",
              "    background-color: var(--disabled-bg-color);\n",
              "    fill: var(--disabled-fill-color);\n",
              "    box-shadow: none;\n",
              "  }\n",
              "\n",
              "  .colab-df-spinner {\n",
              "    border: 2px solid var(--fill-color);\n",
              "    border-color: transparent;\n",
              "    border-bottom-color: var(--fill-color);\n",
              "    animation:\n",
              "      spin 1s steps(1) infinite;\n",
              "  }\n",
              "\n",
              "  @keyframes spin {\n",
              "    0% {\n",
              "      border-color: transparent;\n",
              "      border-bottom-color: var(--fill-color);\n",
              "      border-left-color: var(--fill-color);\n",
              "    }\n",
              "    20% {\n",
              "      border-color: transparent;\n",
              "      border-left-color: var(--fill-color);\n",
              "      border-top-color: var(--fill-color);\n",
              "    }\n",
              "    30% {\n",
              "      border-color: transparent;\n",
              "      border-left-color: var(--fill-color);\n",
              "      border-top-color: var(--fill-color);\n",
              "      border-right-color: var(--fill-color);\n",
              "    }\n",
              "    40% {\n",
              "      border-color: transparent;\n",
              "      border-right-color: var(--fill-color);\n",
              "      border-top-color: var(--fill-color);\n",
              "    }\n",
              "    60% {\n",
              "      border-color: transparent;\n",
              "      border-right-color: var(--fill-color);\n",
              "    }\n",
              "    80% {\n",
              "      border-color: transparent;\n",
              "      border-right-color: var(--fill-color);\n",
              "      border-bottom-color: var(--fill-color);\n",
              "    }\n",
              "    90% {\n",
              "      border-color: transparent;\n",
              "      border-bottom-color: var(--fill-color);\n",
              "    }\n",
              "  }\n",
              "</style>\n",
              "\n",
              "  <script>\n",
              "    async function quickchart(key) {\n",
              "      const quickchartButtonEl =\n",
              "        document.querySelector('#' + key + ' button');\n",
              "      quickchartButtonEl.disabled = true;  // To prevent multiple clicks.\n",
              "      quickchartButtonEl.classList.add('colab-df-spinner');\n",
              "      try {\n",
              "        const charts = await google.colab.kernel.invokeFunction(\n",
              "            'suggestCharts', [key], {});\n",
              "      } catch (error) {\n",
              "        console.error('Error during call to suggestCharts:', error);\n",
              "      }\n",
              "      quickchartButtonEl.classList.remove('colab-df-spinner');\n",
              "      quickchartButtonEl.classList.add('colab-df-quickchart-complete');\n",
              "    }\n",
              "    (() => {\n",
              "      let quickchartButtonEl =\n",
              "        document.querySelector('#df-41742d12-9e37-47a2-b197-0e7077facba1 button');\n",
              "      quickchartButtonEl.style.display =\n",
              "        google.colab.kernel.accessAllowed ? 'block' : 'none';\n",
              "    })();\n",
              "  </script>\n",
              "</div>\n",
              "\n",
              "  <div id=\"id_2e762185-f5bb-4234-850a-12ac1a15f8d0\">\n",
              "    <style>\n",
              "      .colab-df-generate {\n",
              "        background-color: #E8F0FE;\n",
              "        border: none;\n",
              "        border-radius: 50%;\n",
              "        cursor: pointer;\n",
              "        display: none;\n",
              "        fill: #1967D2;\n",
              "        height: 32px;\n",
              "        padding: 0 0 0 0;\n",
              "        width: 32px;\n",
              "      }\n",
              "\n",
              "      .colab-df-generate:hover {\n",
              "        background-color: #E2EBFA;\n",
              "        box-shadow: 0px 1px 2px rgba(60, 64, 67, 0.3), 0px 1px 3px 1px rgba(60, 64, 67, 0.15);\n",
              "        fill: #174EA6;\n",
              "      }\n",
              "\n",
              "      [theme=dark] .colab-df-generate {\n",
              "        background-color: #3B4455;\n",
              "        fill: #D2E3FC;\n",
              "      }\n",
              "\n",
              "      [theme=dark] .colab-df-generate:hover {\n",
              "        background-color: #434B5C;\n",
              "        box-shadow: 0px 1px 3px 1px rgba(0, 0, 0, 0.15);\n",
              "        filter: drop-shadow(0px 1px 2px rgba(0, 0, 0, 0.3));\n",
              "        fill: #FFFFFF;\n",
              "      }\n",
              "    </style>\n",
              "    <button class=\"colab-df-generate\" onclick=\"generateWithVariable('table_1')\"\n",
              "            title=\"Generate code using this dataframe.\"\n",
              "            style=\"display:none;\">\n",
              "\n",
              "  <svg xmlns=\"http://www.w3.org/2000/svg\" height=\"24px\"viewBox=\"0 0 24 24\"\n",
              "       width=\"24px\">\n",
              "    <path d=\"M7,19H8.4L18.45,9,17,7.55,7,17.6ZM5,21V16.75L18.45,3.32a2,2,0,0,1,2.83,0l1.4,1.43a1.91,1.91,0,0,1,.58,1.4,1.91,1.91,0,0,1-.58,1.4L9.25,21ZM18.45,9,17,7.55Zm-12,3A5.31,5.31,0,0,0,4.9,8.1,5.31,5.31,0,0,0,1,6.5,5.31,5.31,0,0,0,4.9,4.9,5.31,5.31,0,0,0,6.5,1,5.31,5.31,0,0,0,8.1,4.9,5.31,5.31,0,0,0,12,6.5,5.46,5.46,0,0,0,6.5,12Z\"/>\n",
              "  </svg>\n",
              "    </button>\n",
              "    <script>\n",
              "      (() => {\n",
              "      const buttonEl =\n",
              "        document.querySelector('#id_2e762185-f5bb-4234-850a-12ac1a15f8d0 button.colab-df-generate');\n",
              "      buttonEl.style.display =\n",
              "        google.colab.kernel.accessAllowed ? 'block' : 'none';\n",
              "\n",
              "      buttonEl.onclick = () => {\n",
              "        google.colab.notebook.generateWithVariable('table_1');\n",
              "      }\n",
              "      })();\n",
              "    </script>\n",
              "  </div>\n",
              "\n",
              "    </div>\n",
              "  </div>\n"
            ],
            "application/vnd.google.colaboratory.intrinsic+json": {
              "type": "dataframe",
              "variable_name": "table_1",
              "summary": "{\n  \"name\": \"table_1\",\n  \"rows\": 15,\n  \"fields\": [\n    {\n      \"column\": \"Factor\",\n      \"properties\": {\n        \"dtype\": \"number\",\n        \"std\": 5,\n        \"min\": 1,\n        \"max\": 18,\n        \"num_unique_values\": 15,\n        \"samples\": [\n          11,\n          9,\n          12\n        ],\n        \"semantic_type\": \"\",\n        \"description\": \"\"\n      }\n    },\n    {\n      \"column\": \"N_SIG\",\n      \"properties\": {\n        \"dtype\": \"number\",\n        \"std\": 0.06777558540076023,\n        \"min\": 0.005323113038181288,\n        \"max\": 0.24131445773088506,\n        \"num_unique_values\": 15,\n        \"samples\": [\n          0.062213883633743805,\n          0.09803399845317205,\n          0.005323113038181288\n        ],\n        \"semantic_type\": \"\",\n        \"description\": \"\"\n      }\n    },\n    {\n      \"column\": \"UEPF\",\n      \"properties\": {\n        \"dtype\": \"number\",\n        \"std\": 0.029403859567609852,\n        \"min\": 0.12217915635828767,\n        \"max\": 0.24131445773088506,\n        \"num_unique_values\": 15,\n        \"samples\": [\n          0.13132800095115374,\n          0.14613300941106816,\n          0.14976063200939269\n        ],\n        \"semantic_type\": \"\",\n        \"description\": \"\"\n      }\n    }\n  ]\n}"
            }
          },
          "metadata": {},
          "execution_count": 260
        }
      ]
    },
    {
      "cell_type": "markdown",
      "source": [
        "### Drop factors which are not directly accessible"
      ],
      "metadata": {
        "id": "csNP4NldX7Gw"
      }
    },
    {
      "cell_type": "code",
      "source": [
        "df = df[df['DAI']!=0]\n",
        "df"
      ],
      "metadata": {
        "colab": {
          "base_uri": "https://localhost:8080/",
          "height": 445
        },
        "id": "S8-wD3AfYAk2",
        "outputId": "afc2bd26-268a-47ac-9c7c-a0fffc69c4b6"
      },
      "execution_count": 261,
      "outputs": [
        {
          "output_type": "execute_result",
          "data": {
            "text/plain": [
              "    Factor  DAI  #Influenced  #Influent_DA Level  SubLevelDepth       ULD  \\\n",
              "0       12    1            2             0   1-b              2  2.214701   \n",
              "1        8    1            3             0   1-c              3  2.183703   \n",
              "2        7    1            4             0   1-d              4  2.079077   \n",
              "3       16    1            5             0   1-e              5  2.052095   \n",
              "4       15    1           10             0   1-f              6  1.974594   \n",
              "5        1    1            3             1   2-a              7  1.623923   \n",
              "6       10    1            5             1   2-b              8  1.525301   \n",
              "7        3    1            7             1   2-c              9  1.438237   \n",
              "8       13    1            6             2   3-a             10  1.242897   \n",
              "9       11    1            5             3   4-a             11  1.136714   \n",
              "11       9    1            3             8   6-a             13  0.654545   \n",
              "12       2    1            2            10   7-a             14  0.476587   \n",
              "\n",
              "         LLD  TotalDrive  TotalDependence       SLI     IMP_F     n_sig  Rank  \\\n",
              "0   0.317671    2.591984         2.998264  0.117647  0.117647  0.005323    15   \n",
              "1   0.422160    2.730258         2.645566  0.187500  0.187500  0.008484    14   \n",
              "2   0.653310    2.815644         2.881760  0.266667  0.266667  0.012066    13   \n",
              "3   0.779680    2.983657         2.862604  0.357143  0.357143  0.016159    12   \n",
              "4   0.920875    3.039519         2.928546  0.461538  0.461538  0.020883    11   \n",
              "5   1.160447    2.830055         3.025019  0.583333  0.583333  0.026394    10   \n",
              "6   1.321620    2.911502         3.055485  0.727273  0.727273  0.032907     9   \n",
              "7   1.594641    3.173505         3.198559  0.900000  0.900000  0.040722     8   \n",
              "8   1.760543    3.095665         3.204825  1.111111  1.111111  0.050274     7   \n",
              "9   1.961609    3.407257         3.206287  1.375000  1.375000  0.062214     6   \n",
              "11  2.540214    3.141669         3.440758  2.166667  2.166667  0.098034     4   \n",
              "12  2.786922    3.509689         3.469998  2.800000  2.800000  0.126690     3   \n",
              "\n",
              "    Block      UEPF  \n",
              "0       1  0.149761  \n",
              "1       1  0.155130  \n",
              "2       1  0.146930  \n",
              "3       1  0.159407  \n",
              "4       1  0.176601  \n",
              "5       2  0.122179  \n",
              "6       2  0.133654  \n",
              "7       2  0.135362  \n",
              "8       3  0.139248  \n",
              "9       4  0.131328  \n",
              "11      6  0.146133  \n",
              "12      7  0.154769  "
            ],
            "text/html": [
              "\n",
              "  <div id=\"df-2b580686-02eb-4f81-aedc-7c07a79a96f2\" class=\"colab-df-container\">\n",
              "    <div>\n",
              "<style scoped>\n",
              "    .dataframe tbody tr th:only-of-type {\n",
              "        vertical-align: middle;\n",
              "    }\n",
              "\n",
              "    .dataframe tbody tr th {\n",
              "        vertical-align: top;\n",
              "    }\n",
              "\n",
              "    .dataframe thead th {\n",
              "        text-align: right;\n",
              "    }\n",
              "</style>\n",
              "<table border=\"1\" class=\"dataframe\">\n",
              "  <thead>\n",
              "    <tr style=\"text-align: right;\">\n",
              "      <th></th>\n",
              "      <th>Factor</th>\n",
              "      <th>DAI</th>\n",
              "      <th>#Influenced</th>\n",
              "      <th>#Influent_DA</th>\n",
              "      <th>Level</th>\n",
              "      <th>SubLevelDepth</th>\n",
              "      <th>ULD</th>\n",
              "      <th>LLD</th>\n",
              "      <th>TotalDrive</th>\n",
              "      <th>TotalDependence</th>\n",
              "      <th>SLI</th>\n",
              "      <th>IMP_F</th>\n",
              "      <th>n_sig</th>\n",
              "      <th>Rank</th>\n",
              "      <th>Block</th>\n",
              "      <th>UEPF</th>\n",
              "    </tr>\n",
              "  </thead>\n",
              "  <tbody>\n",
              "    <tr>\n",
              "      <th>0</th>\n",
              "      <td>12</td>\n",
              "      <td>1</td>\n",
              "      <td>2</td>\n",
              "      <td>0</td>\n",
              "      <td>1-b</td>\n",
              "      <td>2</td>\n",
              "      <td>2.214701</td>\n",
              "      <td>0.317671</td>\n",
              "      <td>2.591984</td>\n",
              "      <td>2.998264</td>\n",
              "      <td>0.117647</td>\n",
              "      <td>0.117647</td>\n",
              "      <td>0.005323</td>\n",
              "      <td>15</td>\n",
              "      <td>1</td>\n",
              "      <td>0.149761</td>\n",
              "    </tr>\n",
              "    <tr>\n",
              "      <th>1</th>\n",
              "      <td>8</td>\n",
              "      <td>1</td>\n",
              "      <td>3</td>\n",
              "      <td>0</td>\n",
              "      <td>1-c</td>\n",
              "      <td>3</td>\n",
              "      <td>2.183703</td>\n",
              "      <td>0.422160</td>\n",
              "      <td>2.730258</td>\n",
              "      <td>2.645566</td>\n",
              "      <td>0.187500</td>\n",
              "      <td>0.187500</td>\n",
              "      <td>0.008484</td>\n",
              "      <td>14</td>\n",
              "      <td>1</td>\n",
              "      <td>0.155130</td>\n",
              "    </tr>\n",
              "    <tr>\n",
              "      <th>2</th>\n",
              "      <td>7</td>\n",
              "      <td>1</td>\n",
              "      <td>4</td>\n",
              "      <td>0</td>\n",
              "      <td>1-d</td>\n",
              "      <td>4</td>\n",
              "      <td>2.079077</td>\n",
              "      <td>0.653310</td>\n",
              "      <td>2.815644</td>\n",
              "      <td>2.881760</td>\n",
              "      <td>0.266667</td>\n",
              "      <td>0.266667</td>\n",
              "      <td>0.012066</td>\n",
              "      <td>13</td>\n",
              "      <td>1</td>\n",
              "      <td>0.146930</td>\n",
              "    </tr>\n",
              "    <tr>\n",
              "      <th>3</th>\n",
              "      <td>16</td>\n",
              "      <td>1</td>\n",
              "      <td>5</td>\n",
              "      <td>0</td>\n",
              "      <td>1-e</td>\n",
              "      <td>5</td>\n",
              "      <td>2.052095</td>\n",
              "      <td>0.779680</td>\n",
              "      <td>2.983657</td>\n",
              "      <td>2.862604</td>\n",
              "      <td>0.357143</td>\n",
              "      <td>0.357143</td>\n",
              "      <td>0.016159</td>\n",
              "      <td>12</td>\n",
              "      <td>1</td>\n",
              "      <td>0.159407</td>\n",
              "    </tr>\n",
              "    <tr>\n",
              "      <th>4</th>\n",
              "      <td>15</td>\n",
              "      <td>1</td>\n",
              "      <td>10</td>\n",
              "      <td>0</td>\n",
              "      <td>1-f</td>\n",
              "      <td>6</td>\n",
              "      <td>1.974594</td>\n",
              "      <td>0.920875</td>\n",
              "      <td>3.039519</td>\n",
              "      <td>2.928546</td>\n",
              "      <td>0.461538</td>\n",
              "      <td>0.461538</td>\n",
              "      <td>0.020883</td>\n",
              "      <td>11</td>\n",
              "      <td>1</td>\n",
              "      <td>0.176601</td>\n",
              "    </tr>\n",
              "    <tr>\n",
              "      <th>5</th>\n",
              "      <td>1</td>\n",
              "      <td>1</td>\n",
              "      <td>3</td>\n",
              "      <td>1</td>\n",
              "      <td>2-a</td>\n",
              "      <td>7</td>\n",
              "      <td>1.623923</td>\n",
              "      <td>1.160447</td>\n",
              "      <td>2.830055</td>\n",
              "      <td>3.025019</td>\n",
              "      <td>0.583333</td>\n",
              "      <td>0.583333</td>\n",
              "      <td>0.026394</td>\n",
              "      <td>10</td>\n",
              "      <td>2</td>\n",
              "      <td>0.122179</td>\n",
              "    </tr>\n",
              "    <tr>\n",
              "      <th>6</th>\n",
              "      <td>10</td>\n",
              "      <td>1</td>\n",
              "      <td>5</td>\n",
              "      <td>1</td>\n",
              "      <td>2-b</td>\n",
              "      <td>8</td>\n",
              "      <td>1.525301</td>\n",
              "      <td>1.321620</td>\n",
              "      <td>2.911502</td>\n",
              "      <td>3.055485</td>\n",
              "      <td>0.727273</td>\n",
              "      <td>0.727273</td>\n",
              "      <td>0.032907</td>\n",
              "      <td>9</td>\n",
              "      <td>2</td>\n",
              "      <td>0.133654</td>\n",
              "    </tr>\n",
              "    <tr>\n",
              "      <th>7</th>\n",
              "      <td>3</td>\n",
              "      <td>1</td>\n",
              "      <td>7</td>\n",
              "      <td>1</td>\n",
              "      <td>2-c</td>\n",
              "      <td>9</td>\n",
              "      <td>1.438237</td>\n",
              "      <td>1.594641</td>\n",
              "      <td>3.173505</td>\n",
              "      <td>3.198559</td>\n",
              "      <td>0.900000</td>\n",
              "      <td>0.900000</td>\n",
              "      <td>0.040722</td>\n",
              "      <td>8</td>\n",
              "      <td>2</td>\n",
              "      <td>0.135362</td>\n",
              "    </tr>\n",
              "    <tr>\n",
              "      <th>8</th>\n",
              "      <td>13</td>\n",
              "      <td>1</td>\n",
              "      <td>6</td>\n",
              "      <td>2</td>\n",
              "      <td>3-a</td>\n",
              "      <td>10</td>\n",
              "      <td>1.242897</td>\n",
              "      <td>1.760543</td>\n",
              "      <td>3.095665</td>\n",
              "      <td>3.204825</td>\n",
              "      <td>1.111111</td>\n",
              "      <td>1.111111</td>\n",
              "      <td>0.050274</td>\n",
              "      <td>7</td>\n",
              "      <td>3</td>\n",
              "      <td>0.139248</td>\n",
              "    </tr>\n",
              "    <tr>\n",
              "      <th>9</th>\n",
              "      <td>11</td>\n",
              "      <td>1</td>\n",
              "      <td>5</td>\n",
              "      <td>3</td>\n",
              "      <td>4-a</td>\n",
              "      <td>11</td>\n",
              "      <td>1.136714</td>\n",
              "      <td>1.961609</td>\n",
              "      <td>3.407257</td>\n",
              "      <td>3.206287</td>\n",
              "      <td>1.375000</td>\n",
              "      <td>1.375000</td>\n",
              "      <td>0.062214</td>\n",
              "      <td>6</td>\n",
              "      <td>4</td>\n",
              "      <td>0.131328</td>\n",
              "    </tr>\n",
              "    <tr>\n",
              "      <th>11</th>\n",
              "      <td>9</td>\n",
              "      <td>1</td>\n",
              "      <td>3</td>\n",
              "      <td>8</td>\n",
              "      <td>6-a</td>\n",
              "      <td>13</td>\n",
              "      <td>0.654545</td>\n",
              "      <td>2.540214</td>\n",
              "      <td>3.141669</td>\n",
              "      <td>3.440758</td>\n",
              "      <td>2.166667</td>\n",
              "      <td>2.166667</td>\n",
              "      <td>0.098034</td>\n",
              "      <td>4</td>\n",
              "      <td>6</td>\n",
              "      <td>0.146133</td>\n",
              "    </tr>\n",
              "    <tr>\n",
              "      <th>12</th>\n",
              "      <td>2</td>\n",
              "      <td>1</td>\n",
              "      <td>2</td>\n",
              "      <td>10</td>\n",
              "      <td>7-a</td>\n",
              "      <td>14</td>\n",
              "      <td>0.476587</td>\n",
              "      <td>2.786922</td>\n",
              "      <td>3.509689</td>\n",
              "      <td>3.469998</td>\n",
              "      <td>2.800000</td>\n",
              "      <td>2.800000</td>\n",
              "      <td>0.126690</td>\n",
              "      <td>3</td>\n",
              "      <td>7</td>\n",
              "      <td>0.154769</td>\n",
              "    </tr>\n",
              "  </tbody>\n",
              "</table>\n",
              "</div>\n",
              "    <div class=\"colab-df-buttons\">\n",
              "\n",
              "  <div class=\"colab-df-container\">\n",
              "    <button class=\"colab-df-convert\" onclick=\"convertToInteractive('df-2b580686-02eb-4f81-aedc-7c07a79a96f2')\"\n",
              "            title=\"Convert this dataframe to an interactive table.\"\n",
              "            style=\"display:none;\">\n",
              "\n",
              "  <svg xmlns=\"http://www.w3.org/2000/svg\" height=\"24px\" viewBox=\"0 -960 960 960\">\n",
              "    <path d=\"M120-120v-720h720v720H120Zm60-500h600v-160H180v160Zm220 220h160v-160H400v160Zm0 220h160v-160H400v160ZM180-400h160v-160H180v160Zm440 0h160v-160H620v160ZM180-180h160v-160H180v160Zm440 0h160v-160H620v160Z\"/>\n",
              "  </svg>\n",
              "    </button>\n",
              "\n",
              "  <style>\n",
              "    .colab-df-container {\n",
              "      display:flex;\n",
              "      gap: 12px;\n",
              "    }\n",
              "\n",
              "    .colab-df-convert {\n",
              "      background-color: #E8F0FE;\n",
              "      border: none;\n",
              "      border-radius: 50%;\n",
              "      cursor: pointer;\n",
              "      display: none;\n",
              "      fill: #1967D2;\n",
              "      height: 32px;\n",
              "      padding: 0 0 0 0;\n",
              "      width: 32px;\n",
              "    }\n",
              "\n",
              "    .colab-df-convert:hover {\n",
              "      background-color: #E2EBFA;\n",
              "      box-shadow: 0px 1px 2px rgba(60, 64, 67, 0.3), 0px 1px 3px 1px rgba(60, 64, 67, 0.15);\n",
              "      fill: #174EA6;\n",
              "    }\n",
              "\n",
              "    .colab-df-buttons div {\n",
              "      margin-bottom: 4px;\n",
              "    }\n",
              "\n",
              "    [theme=dark] .colab-df-convert {\n",
              "      background-color: #3B4455;\n",
              "      fill: #D2E3FC;\n",
              "    }\n",
              "\n",
              "    [theme=dark] .colab-df-convert:hover {\n",
              "      background-color: #434B5C;\n",
              "      box-shadow: 0px 1px 3px 1px rgba(0, 0, 0, 0.15);\n",
              "      filter: drop-shadow(0px 1px 2px rgba(0, 0, 0, 0.3));\n",
              "      fill: #FFFFFF;\n",
              "    }\n",
              "  </style>\n",
              "\n",
              "    <script>\n",
              "      const buttonEl =\n",
              "        document.querySelector('#df-2b580686-02eb-4f81-aedc-7c07a79a96f2 button.colab-df-convert');\n",
              "      buttonEl.style.display =\n",
              "        google.colab.kernel.accessAllowed ? 'block' : 'none';\n",
              "\n",
              "      async function convertToInteractive(key) {\n",
              "        const element = document.querySelector('#df-2b580686-02eb-4f81-aedc-7c07a79a96f2');\n",
              "        const dataTable =\n",
              "          await google.colab.kernel.invokeFunction('convertToInteractive',\n",
              "                                                    [key], {});\n",
              "        if (!dataTable) return;\n",
              "\n",
              "        const docLinkHtml = 'Like what you see? Visit the ' +\n",
              "          '<a target=\"_blank\" href=https://colab.research.google.com/notebooks/data_table.ipynb>data table notebook</a>'\n",
              "          + ' to learn more about interactive tables.';\n",
              "        element.innerHTML = '';\n",
              "        dataTable['output_type'] = 'display_data';\n",
              "        await google.colab.output.renderOutput(dataTable, element);\n",
              "        const docLink = document.createElement('div');\n",
              "        docLink.innerHTML = docLinkHtml;\n",
              "        element.appendChild(docLink);\n",
              "      }\n",
              "    </script>\n",
              "  </div>\n",
              "\n",
              "\n",
              "<div id=\"df-eff41cc8-9b9b-4676-85bc-fccb276b2697\">\n",
              "  <button class=\"colab-df-quickchart\" onclick=\"quickchart('df-eff41cc8-9b9b-4676-85bc-fccb276b2697')\"\n",
              "            title=\"Suggest charts\"\n",
              "            style=\"display:none;\">\n",
              "\n",
              "<svg xmlns=\"http://www.w3.org/2000/svg\" height=\"24px\"viewBox=\"0 0 24 24\"\n",
              "     width=\"24px\">\n",
              "    <g>\n",
              "        <path d=\"M19 3H5c-1.1 0-2 .9-2 2v14c0 1.1.9 2 2 2h14c1.1 0 2-.9 2-2V5c0-1.1-.9-2-2-2zM9 17H7v-7h2v7zm4 0h-2V7h2v10zm4 0h-2v-4h2v4z\"/>\n",
              "    </g>\n",
              "</svg>\n",
              "  </button>\n",
              "\n",
              "<style>\n",
              "  .colab-df-quickchart {\n",
              "      --bg-color: #E8F0FE;\n",
              "      --fill-color: #1967D2;\n",
              "      --hover-bg-color: #E2EBFA;\n",
              "      --hover-fill-color: #174EA6;\n",
              "      --disabled-fill-color: #AAA;\n",
              "      --disabled-bg-color: #DDD;\n",
              "  }\n",
              "\n",
              "  [theme=dark] .colab-df-quickchart {\n",
              "      --bg-color: #3B4455;\n",
              "      --fill-color: #D2E3FC;\n",
              "      --hover-bg-color: #434B5C;\n",
              "      --hover-fill-color: #FFFFFF;\n",
              "      --disabled-bg-color: #3B4455;\n",
              "      --disabled-fill-color: #666;\n",
              "  }\n",
              "\n",
              "  .colab-df-quickchart {\n",
              "    background-color: var(--bg-color);\n",
              "    border: none;\n",
              "    border-radius: 50%;\n",
              "    cursor: pointer;\n",
              "    display: none;\n",
              "    fill: var(--fill-color);\n",
              "    height: 32px;\n",
              "    padding: 0;\n",
              "    width: 32px;\n",
              "  }\n",
              "\n",
              "  .colab-df-quickchart:hover {\n",
              "    background-color: var(--hover-bg-color);\n",
              "    box-shadow: 0 1px 2px rgba(60, 64, 67, 0.3), 0 1px 3px 1px rgba(60, 64, 67, 0.15);\n",
              "    fill: var(--button-hover-fill-color);\n",
              "  }\n",
              "\n",
              "  .colab-df-quickchart-complete:disabled,\n",
              "  .colab-df-quickchart-complete:disabled:hover {\n",
              "    background-color: var(--disabled-bg-color);\n",
              "    fill: var(--disabled-fill-color);\n",
              "    box-shadow: none;\n",
              "  }\n",
              "\n",
              "  .colab-df-spinner {\n",
              "    border: 2px solid var(--fill-color);\n",
              "    border-color: transparent;\n",
              "    border-bottom-color: var(--fill-color);\n",
              "    animation:\n",
              "      spin 1s steps(1) infinite;\n",
              "  }\n",
              "\n",
              "  @keyframes spin {\n",
              "    0% {\n",
              "      border-color: transparent;\n",
              "      border-bottom-color: var(--fill-color);\n",
              "      border-left-color: var(--fill-color);\n",
              "    }\n",
              "    20% {\n",
              "      border-color: transparent;\n",
              "      border-left-color: var(--fill-color);\n",
              "      border-top-color: var(--fill-color);\n",
              "    }\n",
              "    30% {\n",
              "      border-color: transparent;\n",
              "      border-left-color: var(--fill-color);\n",
              "      border-top-color: var(--fill-color);\n",
              "      border-right-color: var(--fill-color);\n",
              "    }\n",
              "    40% {\n",
              "      border-color: transparent;\n",
              "      border-right-color: var(--fill-color);\n",
              "      border-top-color: var(--fill-color);\n",
              "    }\n",
              "    60% {\n",
              "      border-color: transparent;\n",
              "      border-right-color: var(--fill-color);\n",
              "    }\n",
              "    80% {\n",
              "      border-color: transparent;\n",
              "      border-right-color: var(--fill-color);\n",
              "      border-bottom-color: var(--fill-color);\n",
              "    }\n",
              "    90% {\n",
              "      border-color: transparent;\n",
              "      border-bottom-color: var(--fill-color);\n",
              "    }\n",
              "  }\n",
              "</style>\n",
              "\n",
              "  <script>\n",
              "    async function quickchart(key) {\n",
              "      const quickchartButtonEl =\n",
              "        document.querySelector('#' + key + ' button');\n",
              "      quickchartButtonEl.disabled = true;  // To prevent multiple clicks.\n",
              "      quickchartButtonEl.classList.add('colab-df-spinner');\n",
              "      try {\n",
              "        const charts = await google.colab.kernel.invokeFunction(\n",
              "            'suggestCharts', [key], {});\n",
              "      } catch (error) {\n",
              "        console.error('Error during call to suggestCharts:', error);\n",
              "      }\n",
              "      quickchartButtonEl.classList.remove('colab-df-spinner');\n",
              "      quickchartButtonEl.classList.add('colab-df-quickchart-complete');\n",
              "    }\n",
              "    (() => {\n",
              "      let quickchartButtonEl =\n",
              "        document.querySelector('#df-eff41cc8-9b9b-4676-85bc-fccb276b2697 button');\n",
              "      quickchartButtonEl.style.display =\n",
              "        google.colab.kernel.accessAllowed ? 'block' : 'none';\n",
              "    })();\n",
              "  </script>\n",
              "</div>\n",
              "\n",
              "  <div id=\"id_52175172-df1d-441a-ae39-04ffba16235c\">\n",
              "    <style>\n",
              "      .colab-df-generate {\n",
              "        background-color: #E8F0FE;\n",
              "        border: none;\n",
              "        border-radius: 50%;\n",
              "        cursor: pointer;\n",
              "        display: none;\n",
              "        fill: #1967D2;\n",
              "        height: 32px;\n",
              "        padding: 0 0 0 0;\n",
              "        width: 32px;\n",
              "      }\n",
              "\n",
              "      .colab-df-generate:hover {\n",
              "        background-color: #E2EBFA;\n",
              "        box-shadow: 0px 1px 2px rgba(60, 64, 67, 0.3), 0px 1px 3px 1px rgba(60, 64, 67, 0.15);\n",
              "        fill: #174EA6;\n",
              "      }\n",
              "\n",
              "      [theme=dark] .colab-df-generate {\n",
              "        background-color: #3B4455;\n",
              "        fill: #D2E3FC;\n",
              "      }\n",
              "\n",
              "      [theme=dark] .colab-df-generate:hover {\n",
              "        background-color: #434B5C;\n",
              "        box-shadow: 0px 1px 3px 1px rgba(0, 0, 0, 0.15);\n",
              "        filter: drop-shadow(0px 1px 2px rgba(0, 0, 0, 0.3));\n",
              "        fill: #FFFFFF;\n",
              "      }\n",
              "    </style>\n",
              "    <button class=\"colab-df-generate\" onclick=\"generateWithVariable('df')\"\n",
              "            title=\"Generate code using this dataframe.\"\n",
              "            style=\"display:none;\">\n",
              "\n",
              "  <svg xmlns=\"http://www.w3.org/2000/svg\" height=\"24px\"viewBox=\"0 0 24 24\"\n",
              "       width=\"24px\">\n",
              "    <path d=\"M7,19H8.4L18.45,9,17,7.55,7,17.6ZM5,21V16.75L18.45,3.32a2,2,0,0,1,2.83,0l1.4,1.43a1.91,1.91,0,0,1,.58,1.4,1.91,1.91,0,0,1-.58,1.4L9.25,21ZM18.45,9,17,7.55Zm-12,3A5.31,5.31,0,0,0,4.9,8.1,5.31,5.31,0,0,0,1,6.5,5.31,5.31,0,0,0,4.9,4.9,5.31,5.31,0,0,0,6.5,1,5.31,5.31,0,0,0,8.1,4.9,5.31,5.31,0,0,0,12,6.5,5.46,5.46,0,0,0,6.5,12Z\"/>\n",
              "  </svg>\n",
              "    </button>\n",
              "    <script>\n",
              "      (() => {\n",
              "      const buttonEl =\n",
              "        document.querySelector('#id_52175172-df1d-441a-ae39-04ffba16235c button.colab-df-generate');\n",
              "      buttonEl.style.display =\n",
              "        google.colab.kernel.accessAllowed ? 'block' : 'none';\n",
              "\n",
              "      buttonEl.onclick = () => {\n",
              "        google.colab.notebook.generateWithVariable('df');\n",
              "      }\n",
              "      })();\n",
              "    </script>\n",
              "  </div>\n",
              "\n",
              "    </div>\n",
              "  </div>\n"
            ],
            "application/vnd.google.colaboratory.intrinsic+json": {
              "type": "dataframe",
              "variable_name": "df",
              "summary": "{\n  \"name\": \"df\",\n  \"rows\": 12,\n  \"fields\": [\n    {\n      \"column\": \"Factor\",\n      \"properties\": {\n        \"dtype\": \"number\",\n        \"std\": 4,\n        \"min\": 1,\n        \"max\": 16,\n        \"num_unique_values\": 12,\n        \"samples\": [\n          9,\n          11,\n          12\n        ],\n        \"semantic_type\": \"\",\n        \"description\": \"\"\n      }\n    },\n    {\n      \"column\": \"DAI\",\n      \"properties\": {\n        \"dtype\": \"number\",\n        \"std\": 0,\n        \"min\": 1,\n        \"max\": 1,\n        \"num_unique_values\": 1,\n        \"samples\": [\n          1\n        ],\n        \"semantic_type\": \"\",\n        \"description\": \"\"\n      }\n    },\n    {\n      \"column\": \"#Influenced\",\n      \"properties\": {\n        \"dtype\": \"number\",\n        \"std\": 2,\n        \"min\": 2,\n        \"max\": 10,\n        \"num_unique_values\": 7,\n        \"samples\": [\n          2\n        ],\n        \"semantic_type\": \"\",\n        \"description\": \"\"\n      }\n    },\n    {\n      \"column\": \"#Influent_DA\",\n      \"properties\": {\n        \"dtype\": \"number\",\n        \"std\": 3,\n        \"min\": 0,\n        \"max\": 10,\n        \"num_unique_values\": 6,\n        \"samples\": [\n          0\n        ],\n        \"semantic_type\": \"\",\n        \"description\": \"\"\n      }\n    },\n    {\n      \"column\": \"Level\",\n      \"properties\": {\n        \"dtype\": \"string\",\n        \"num_unique_values\": 12,\n        \"samples\": [\n          \"6-a\"\n        ],\n        \"semantic_type\": \"\",\n        \"description\": \"\"\n      }\n    },\n    {\n      \"column\": \"SubLevelDepth\",\n      \"properties\": {\n        \"dtype\": \"number\",\n        \"std\": 3,\n        \"min\": 2,\n        \"max\": 14,\n        \"num_unique_values\": 12,\n        \"samples\": [\n          13\n        ],\n        \"semantic_type\": \"\",\n        \"description\": \"\"\n      }\n    },\n    {\n      \"column\": \"ULD\",\n      \"properties\": {\n        \"dtype\": \"number\",\n        \"std\": 0.5872466765370433,\n        \"min\": 0.476587424296942,\n        \"max\": 2.2147007008155843,\n        \"num_unique_values\": 12,\n        \"samples\": [\n          0.6545452407667405\n        ],\n        \"semantic_type\": \"\",\n        \"description\": \"\"\n      }\n    },\n    {\n      \"column\": \"LLD\",\n      \"properties\": {\n        \"dtype\": \"number\",\n        \"std\": 0.8001078273327279,\n        \"min\": 0.3176711567966116,\n        \"max\": 2.786921835518617,\n        \"num_unique_values\": 12,\n        \"samples\": [\n          2.5402139345406662\n        ],\n        \"semantic_type\": \"\",\n        \"description\": \"\"\n      }\n    },\n    {\n      \"column\": \"TotalDrive\",\n      \"properties\": {\n        \"dtype\": \"number\",\n        \"std\": 0.2683806523774753,\n        \"min\": 2.5919836899660904,\n        \"max\": 3.5096886704045045,\n        \"num_unique_values\": 12,\n        \"samples\": [\n          3.141669240760418\n        ],\n        \"semantic_type\": \"\",\n        \"description\": \"\"\n      }\n    },\n    {\n      \"column\": \"TotalDependence\",\n      \"properties\": {\n        \"dtype\": \"number\",\n        \"std\": 0.24049512729279132,\n        \"min\": 2.6455655457400455,\n        \"max\": 3.469997588650366,\n        \"num_unique_values\": 12,\n        \"samples\": [\n          3.4407579869612235\n        ],\n        \"semantic_type\": \"\",\n        \"description\": \"\"\n      }\n    },\n    {\n      \"column\": \"SLI\",\n      \"properties\": {\n        \"dtype\": \"number\",\n        \"std\": 0.8321475235737748,\n        \"min\": 0.11764705882352941,\n        \"max\": 2.8,\n        \"num_unique_values\": 12,\n        \"samples\": [\n          2.1666666666666665\n        ],\n        \"semantic_type\": \"\",\n        \"description\": \"\"\n      }\n    },\n    {\n      \"column\": \"IMP_F\",\n      \"properties\": {\n        \"dtype\": \"number\",\n        \"std\": 0.8321475235737748,\n        \"min\": 0.11764705882352941,\n        \"max\": 2.8,\n        \"num_unique_values\": 12,\n        \"samples\": [\n          2.1666666666666665\n        ],\n        \"semantic_type\": \"\",\n        \"description\": \"\"\n      }\n    },\n    {\n      \"column\": \"n_sig\",\n      \"properties\": {\n        \"dtype\": \"number\",\n        \"std\": 0.03765173032561957,\n        \"min\": 0.005323113038181288,\n        \"max\": 0.12669009030871464,\n        \"num_unique_values\": 12,\n        \"samples\": [\n          0.09803399845317205\n        ],\n        \"semantic_type\": \"\",\n        \"description\": \"\"\n      }\n    },\n    {\n      \"column\": \"Rank\",\n      \"properties\": {\n        \"dtype\": \"number\",\n        \"std\": 3,\n        \"min\": 3,\n        \"max\": 15,\n        \"num_unique_values\": 12,\n        \"samples\": [\n          4\n        ],\n        \"semantic_type\": \"\",\n        \"description\": \"\"\n      }\n    },\n    {\n      \"column\": \"Block\",\n      \"properties\": {\n        \"dtype\": \"number\",\n        \"std\": 2,\n        \"min\": 1,\n        \"max\": 7,\n        \"num_unique_values\": 6,\n        \"samples\": [\n          1\n        ],\n        \"semantic_type\": \"\",\n        \"description\": \"\"\n      }\n    },\n    {\n      \"column\": \"UEPF\",\n      \"properties\": {\n        \"dtype\": \"number\",\n        \"std\": 0.014725040648148996,\n        \"min\": 0.12217915635828767,\n        \"max\": 0.17660054605995426,\n        \"num_unique_values\": 12,\n        \"samples\": [\n          0.14613300941106816\n        ],\n        \"semantic_type\": \"\",\n        \"description\": \"\"\n      }\n    }\n  ]\n}"
            }
          },
          "metadata": {},
          "execution_count": 261
        }
      ]
    },
    {
      "cell_type": "markdown",
      "source": [
        "Possible paths combintations"
      ],
      "metadata": {
        "id": "F9Klg7fKd4ep"
      }
    },
    {
      "cell_type": "code",
      "source": [
        "grouped_factors = df.groupby('Level')['Factor'].apply(list).to_dict()\n",
        "level_combinations = {\n",
        "    level: [list(combo) for r in range(1, len(factors) + 1)\n",
        "            for combo in itertools.combinations(factors, r)]\n",
        "    for level, factors in grouped_factors.items()\n",
        "}\n",
        "\n",
        "# Generating cross-level combinations\n",
        "cross_level_combinations = list(itertools.product(*level_combinations.values()))\n",
        "\n",
        "# Flatten each combination into a single list and remove duplicates\n",
        "flattened_combinations = [\n",
        "    {'path-{}'.format(i+1): sorted(set(itertools.chain.from_iterable(combo)))}\n",
        "    for i, combo in enumerate(cross_level_combinations)\n",
        "]\n",
        "\n",
        "path_factors_bsig_bepf_tables = {}\n",
        "\n",
        "# Iterate over each bucket to create the path tables\n",
        "for bucket in flattened_combinations:\n",
        "    bucket_name, factors_in_bucket = next(iter(bucket.items()))\n",
        "\n",
        "    # Filter the original DataFrame for the factors in the current bucket\n",
        "    bucket_df = df[df['Factor'].isin(factors_in_bucket)]\n",
        "\n",
        "    # Group by 'Block', and calculate 'Bsig' and 'BEPF' for each block\n",
        "    grouped = bucket_df.groupby('Block').agg(\n",
        "        Factors=('Factor', list),\n",
        "        Bsig=('n_sig', 'sum'),\n",
        "        BEPF=('UEPF', 'mean')\n",
        "    ).reset_index()\n",
        "\n",
        "    # Adding the table to the dictionary\n",
        "    path_factors_bsig_bepf_tables[bucket_name] = grouped\n",
        "# Displaying the complete set of combinations\n",
        "with open('solution.txt', 'a') as file:\n",
        "    for bucket_name, table in path_factors_bsig_bepf_tables.items():\n",
        "        # Writing the path name and factors included in that path\n",
        "        factors_in_path = ', '.join([str(factor) for factor in flattened_combinations[int(bucket_name.split('-')[1]) - 1][bucket_name]])\n",
        "        file.write(f\"{bucket_name} \\\"Factors included in that path: {factors_in_path}\\\"\\n\")\n",
        "\n",
        "        # Writing the table for each path\n",
        "        file.write(table.to_string(index=False))\n",
        "        file.write(\"\\n\\n\")  # Adding space between tables for readability\n"
      ],
      "metadata": {
        "id": "LpZ2aqhPd8WR"
      },
      "execution_count": 262,
      "outputs": []
    },
    {
      "cell_type": "markdown",
      "source": [
        "### Calculation of Heuristics path specific nsig ratio and uepr"
      ],
      "metadata": {
        "id": "4eYgiZeQc1Vk"
      }
    },
    {
      "cell_type": "code",
      "source": [
        "path_nsigr_uper_tables = {}\n",
        "df.reset_index(drop=True, inplace=True)\n",
        "for bucket in flattened_combinations:\n",
        "    bucket_name, factors_in_bucket = next(iter(bucket.items()))\n",
        "\n",
        "    # Filtering the DataFrame for factors in the current path\n",
        "    path_df = df[df['Factor'].isin(factors_in_bucket)]\n",
        "\n",
        "    # Calculating 'nsig ratio' and 'uepr' for each factor in the path\n",
        "    path_table = path_df.copy()\n",
        "    for block in path_df['Block'].unique():\n",
        "        block_factors = path_df[path_df['Block'] == block]\n",
        "        sum_n_sig = block_factors['n_sig'].sum()\n",
        "        sum_uepf = block_factors['UEPF'].sum()\n",
        "\n",
        "        path_table.loc[path_table['Block'] == block, 'nsig_ratio'] = path_table['n_sig'] / sum_n_sig\n",
        "        path_table.loc[path_table['Block'] == block, 'uepr'] = path_table['UEPF'] / sum_uepf\n",
        "\n",
        "    # Selecting only the required columns for the table\n",
        "    path_nsigr_uper_tables[bucket_name] = path_table[['Factor', 'nsig_ratio', 'uepr','Block']]\n",
        "with open('solution.txt', 'a') as file:\n",
        "    for bucket_name, table in path_nsigr_uper_tables.items():\n",
        "        # Writing the path name and factors included in that path\n",
        "        factors_in_path = ', '.join([str(factor) for factor in flattened_combinations[int(bucket_name.split('-')[1]) - 1][bucket_name]])\n",
        "        file.write(f\"{bucket_name} \\\"Factors included in that path: {factors_in_path}\\\"\\n\")\n",
        "\n",
        "        # Writing the table for each path\n",
        "        file.write(table.to_string(index=False))\n",
        "        file.write(\"\\n\\n\")  # Adding space between tables for readability"
      ],
      "metadata": {
        "id": "2dh5iYR1c8jG"
      },
      "execution_count": 263,
      "outputs": []
    },
    {
      "cell_type": "markdown",
      "source": [
        "### Calculating BSig,BEPF,Pf,BEF"
      ],
      "metadata": {
        "id": "lybOOgH7hlhr"
      }
    },
    {
      "cell_type": "code",
      "source": [
        "def calculate_bef(p, factors,nsigr_uepr_table, df):\n",
        "    tempsum = []\n",
        "    for factor in factors:\n",
        "      tempsum.append((p * nsigr_uepr_table.iloc[nsigr_uepr_table[nsigr_uepr_table['Factor']==factor].index]['nsig_ratio'] + (1 - p) * nsigr_uepr_table.iloc[nsigr_uepr_table[nsigr_uepr_table['Factor']==factor].index]['uepr']) * df.iloc[df[df['Factor']==factor].index]['UEPF'])\n",
        "\n",
        "    total_sum = sum(item.iloc[0] for item in tempsum)\n",
        "    return total_sum\n",
        "\n",
        "# Final tables for each path with BEF and Pf calculations\n",
        "final_path_tables = {}\n",
        "\n",
        "# Iterate over each path\n",
        "for path_name, factors_bsig_bepf_table in path_factors_bsig_bepf_tables.items():\n",
        "    nsigr_uepr_table = path_nsigr_uper_tables[path_name]\n",
        "\n",
        "    # Preparing the final table structure\n",
        "    final_table = factors_bsig_bepf_table.copy()\n",
        "    final_table['BEF'] = 0.0\n",
        "    final_table['Pf'] = 0.0\n",
        "\n",
        "    # Iterate over each block in the path\n",
        "    for block in final_table.index:\n",
        "        factors_in_block = final_table.at[block, 'Factors']\n",
        "        max_bef = 0\n",
        "        optimal_p = 0\n",
        "\n",
        "        # Iterate over a range of p values to find the one that maximizes BEF\n",
        "        for p in np.arange(0, 1.01, 0.01):\n",
        "            bef = calculate_bef(p, factors_in_block, nsigr_uepr_table,df)\n",
        "            if bef > max_bef:\n",
        "                max_bef = bef\n",
        "                optimal_p = p\n",
        "\n",
        "        final_table.at[block, 'BEF'] = max_bef\n",
        "        final_table.at[block, 'Pf'] = optimal_p\n",
        "\n",
        "    final_path_tables[path_name] = final_table.reset_index()\n",
        "\n",
        "# Displaying an example table for one of the paths\n",
        "with open('solution.txt', 'a') as file:\n",
        "    for bucket_name, table in final_path_tables.items():\n",
        "        # Writing the path name and factors included in that path\n",
        "        factors_in_path = ', '.join([str(factor) for factor in flattened_combinations[int(bucket_name.split('-')[1]) - 1][bucket_name]])\n",
        "        file.write(f\"{bucket_name} \\\"Factors included in that path: {factors_in_path}\\\"\\n\")\n",
        "\n",
        "        # Writing the table for each path\n",
        "        file.write(table.to_string(index=False))\n",
        "        file.write(\"\\n\\n\")  # Adding space between tables for readability\n"
      ],
      "metadata": {
        "id": "6ilIaodehvtA"
      },
      "execution_count": 264,
      "outputs": []
    },
    {
      "cell_type": "markdown",
      "source": [
        "### Calculation of Effort Propogation"
      ],
      "metadata": {
        "id": "ELSzy3wD9PTD"
      }
    },
    {
      "cell_type": "code",
      "source": [
        "master_bep_with_feedback  = []\n",
        "master_bep_without_feedback = []\n",
        "\n",
        "for path_name in final_path_tables:\n",
        "    path_df = final_path_tables[path_name]\n",
        "    path_nsigr_uper_df = path_nsigr_uper_tables[path_name]\n",
        "    epi_pb = pd.DataFrame({\n",
        "            'pb':np.arange(0, 1.01, 0.01),\n",
        "            'total_epi':[0]*101,\n",
        "            'avg_epi':[0]*101\n",
        "        })\n",
        "    total_epi=[]\n",
        "    neb = len(path_df)\n",
        "    bep_wofb = []\n",
        "    bep_wfb = []\n",
        "    for pb in np.arange(0, 1.01, 0.01):\n",
        "        temp_total_epi = 0.0\n",
        "        # Calculating BSR and BEPR\n",
        "        efff = pd.DataFrame({\n",
        "            'Factor':path_nsigr_uper_df['Factor'],\n",
        "            'Block':path_nsigr_uper_df['Block'],\n",
        "            'eff':[0]*path_nsigr_uper_df['Factor'].size,\n",
        "            'feedback':[0]*path_nsigr_uper_df['Factor'].size\n",
        "        })\n",
        "        for pass_num in np.arange(1, neb + 2,1):\n",
        "            effb = pd.DataFrame({\n",
        "                'Factors':path_df['Factors'],\n",
        "                'Block':path_df['Block'],\n",
        "                'BEF':path_df['BEF'],\n",
        "                'BSR':[0]*path_df['Block'].size,\n",
        "                'BEPR':[0]*path_df['Block'].size,\n",
        "                'eff':[0]*path_df['Block'].size,\n",
        "                'bep':[0]*path_df['Block'].size,\n",
        "                'bep_without_feedback':[0]*path_df['Block'].size\n",
        "            })\n",
        "\n",
        "            BSR = [path_df.at[i,'Bsig']/path_df.loc[pass_num-1:neb-1,'Bsig'].sum() if i>=pass_num-1 else 0 for i in range(0,neb)]\n",
        "            BEPR = [path_df.at[i,'BEPF']/path_df.loc[pass_num-1:neb-1,'BEPF'].sum() if i>=pass_num-1 else 0 for i in range(0,neb)]\n",
        "            EFFB=[pb*bsr + (1-pb)*bepr for bsr,bepr in zip(BSR,BEPR)]\n",
        "            effb['BSR'] = BSR\n",
        "            effb['BEPR'] = BEPR\n",
        "            effb['eff'] = EFFB\n",
        "            bep_values=[]\n",
        "            bep_values_without_feedback=[]\n",
        "            if pass_num >1:\n",
        "              feedbacks = []\n",
        "              for index1,parent_row in efff.iterrows():  # Adjusting index for factor numbering\n",
        "                  factor = parent_row['Factor']\n",
        "                  block = parent_row['Block']\n",
        "                  feedback = 0.0\n",
        "                  for index2,row in efff.iterrows():\n",
        "                      if block < row['Block']:\n",
        "                          feedback += row['eff'] * n_iim[int(row['Factor']) - 1][int(factor) - 1]\n",
        "                  feedbacks.append(feedback)\n",
        "              efff['feedback'] = feedbacks\n",
        "            EFFF=[]\n",
        "            for index, row in path_nsigr_uper_df.iterrows():\n",
        "                factor = row['Factor']\n",
        "                nsig_ratio = row['nsig_ratio']\n",
        "                uepr = row['uepr']\n",
        "                block = row['Block']\n",
        "                # Get Pf and Effort for the block\n",
        "                if block is not None:\n",
        "                    Pf = path_df.iloc[path_df[path_df['Block']==block].index]['Pf']\n",
        "                    Effort = EFFB[path_df[path_df['Block']==block].index[0] ]\n",
        "                    # Calculate effort for the factor\n",
        "                    factor_effort = Effort * (Pf.iloc[0] * nsig_ratio + (1 - Pf) * uepr)\n",
        "                    EFFF.append(factor_effort.iloc[0])\n",
        "            efff['eff'] = EFFF\n",
        "            for index, effb_row in effb.iterrows():\n",
        "                block = effb_row['Block']\n",
        "                eff_block = effb_row['eff']\n",
        "                bef_block = effb_row['BEF']\n",
        "\n",
        "                # Calculating the first part of the BEP formula\n",
        "                bep = eff_block * bef_block\n",
        "\n",
        "                # Getting all factors in the same block from efff DataFrame\n",
        "                factors_in_block = efff[efff['Block'] == block]['Factor']\n",
        "\n",
        "                # Calculating the sum of feedback * UEPF for each factor in the block\n",
        "                feedback_sum = sum(\n",
        "                    efff[efff['Factor'] == factor]['feedback'].iloc[0] * df[df['Factor'] == factor]['UEPF'].iloc[0]\n",
        "                    for factor in factors_in_block\n",
        "                )\n",
        "\n",
        "                # Adding the feedback sum to the BEP\n",
        "                bep_values_without_feedback.append(bep)\n",
        "                bep += feedback_sum\n",
        "                bep_values.append(bep)\n",
        "\n",
        "            effb['bep'] = bep_values\n",
        "            effb['bep_without_feedback']=bep_values_without_feedback\n",
        "            if pb==1:\n",
        "              master_bep_with_feedback.append(bep_values)\n",
        "              master_bep_without_feedback.append(bep_values_without_feedback)\n",
        "            temp_total_epi += effb['bep'].loc[:neb-1].sum()\n",
        "            with open('solution.txt', 'a') as file:\n",
        "                    # Writing the path name and factors included in that path\n",
        "                factors_in_path = ', '.join([str(factor) for factor in flattened_combinations[int(path_name.split('-')[1]) - 1][bucket_name]])\n",
        "                file.write(f\"{path_name} \\\"Factors included in that path: {factors_in_path} and effort and feedback of factors for pass {pass_num} and pb {pb}\\\"\\n\")\n",
        "                # Writing the table for each path\n",
        "                file.write(efff.to_string(index=False))\n",
        "                file.write(\"\\n\\n\")  # Adding space between tables for readability\n",
        "                file.write(f\"{path_name} \\\"Factors included in that path: {factors_in_path} and effort of blocks for pass {pass_num} and pb {pb}\\\"\\n\")\n",
        "                # Writing the table for each path\n",
        "                file.write(effb.to_string(index=False))\n",
        "                file.write(\"\\n\\n\")  # Adding space between tables for readability\n",
        "                file.write(f\"{path_name} \\\"Factors included in that path: {factors_in_path} and total_epi for pass {pass_num} and pb {pb} = {temp_total_epi}\\\"\\n\")\n",
        "                file.write(\"\\n\\n\")  # Adding space between tables for readability\n",
        "        total_epi.append(temp_total_epi)\n",
        "    epi_pb['total_epi'] = total_epi\n",
        "    epi_pb['avg_epi'] = [epi/neb for epi in total_epi]\n",
        "    with open('solution.txt', 'a') as file:\n",
        "        file.write(f\"{path_name} \\\"Factors included in that path: {factors_in_path} epi vs pb\\\"\\n\")\n",
        "        file.write(epi_pb.to_string(index=False))\n",
        "        file.write(\"\\n\\n\")  # Adding space between tables for readability\n",
        "    plt.figure(figsize=(10, 6))\n",
        "    plt.plot(epi_pb['pb'], epi_pb['avg_epi'], marker='o')  # 'o' for circle markers\n",
        "\n",
        "    # Adding labels and title\n",
        "    plt.xlabel('Pb')\n",
        "    plt.ylabel('Epi')\n",
        "    plt.title(f'Epi vs Pb for {path_name}')\n",
        "\n",
        "    # Displaying the plot\n",
        "    plt.show()"
      ],
      "metadata": {
        "colab": {
          "base_uri": "https://localhost:8080/",
          "height": 564
        },
        "id": "vzCcaNBh9TL1",
        "outputId": "7065b44a-a713-4236-bcb3-fbdeaeaa50e8"
      },
      "execution_count": 265,
      "outputs": [
        {
          "output_type": "display_data",
          "data": {
            "text/plain": [
              "<Figure size 1000x600 with 1 Axes>"
            ],
            "image/png": "[encoded data removed]"
          },
          "metadata": {}
        }
      ]
    },
    {
      "cell_type": "markdown",
      "source": [
        "Comparison of BEP values with and without feedback"
      ],
      "metadata": {
        "id": "rYMr4q600EP5"
      }
    },
    {
      "cell_type": "code",
      "source": [
        "master_bep_without_feedback=list(map(list, zip(*master_bep_without_feedback)))\n",
        "master_bep_with_feedback=list(map(list, zip(*master_bep_with_feedback)))\n",
        "\n",
        "total_sum = sum(sum(sublist) for sublist in master_bep_without_feedback)\n",
        "avg_epi_without_feedback_for_pb_1 = total_sum/6\n",
        "print('Avg EPI without feedback for pb = 1 :',avg_epi_without_feedback_for_pb_1)\n",
        "passes = ['Pass 1', 'Pass 2', 'Pass 3', 'Pass 4', 'Pass 5', 'Pass 6', 'Pass 7']\n",
        "block_names = ['Block 1', 'Block 2', 'Block 3', 'Block 4', 'Block 6', 'Block 7']\n",
        "\n",
        "bar_width = 0.35\n",
        "index = np.arange(len(passes))\n",
        "\n",
        "fig, axs = plt.subplots(2, 3, figsize=(15, 10))\n",
        "\n",
        "for i in range(2):\n",
        "    for j in range(3):\n",
        "        block_index = 3*i + j\n",
        "        axs[i, j].bar(index - bar_width/2, master_bep_without_feedback[block_index], bar_width, color='red', alpha=0.5, label='Without Feedback')\n",
        "        axs[i, j].bar(index + bar_width/2, master_bep_with_feedback[block_index], bar_width, color='blue', alpha=0.7, label='With Feedback')\n",
        "        axs[i, j].set_xlabel('Passes')\n",
        "        axs[i, j].set_ylabel('BEP Values')\n",
        "        axs[i, j].set_title(block_names[block_index])\n",
        "        axs[i, j].set_xticks(index)\n",
        "        axs[i, j].set_xticklabels(passes)\n",
        "        axs[i, j].legend()\n",
        "        axs[i, j].grid(False)\n",
        "\n",
        "fig.suptitle('Comparison of BEP Values of the blocks with and without Feedback', fontsize=16)\n",
        "plt.tight_layout()\n",
        "plt.show()"
      ],
      "metadata": {
        "colab": {
          "base_uri": "https://localhost:8080/",
          "height": 770
        },
        "id": "sAh7hpo00LHO",
        "outputId": "c8b8265e-69b8-47c9-c74d-888586396404"
      },
      "execution_count": 271,
      "outputs": [
        {
          "output_type": "stream",
          "name": "stdout",
          "text": [
            "Avg EPI without feedback for pb = 1 0.1475350890974033\n"
          ]
        },
        {
          "output_type": "display_data",
          "data": {
            "text/plain": [
              "<Figure size 1500x1000 with 6 Axes>"
            ],
            "image/png": "[encoded data removed]"
          },
          "metadata": {}
        }
      ]
    },
    {
      "cell_type": "code",
      "source": [
        "print(efff)"
      ],
      "metadata": {
        "colab": {
          "base_uri": "https://localhost:8080/"
        },
        "id": "-S-9MovNMba0",
        "outputId": "a23f6d8c-e392-4716-89b8-f07923a9b05f"
      },
      "execution_count": 267,
      "outputs": [
        {
          "output_type": "stream",
          "name": "stdout",
          "text": [
            "    Factor  Block  eff  feedback\n",
            "0       12      1  0.0  0.035293\n",
            "1        8      1  0.0  0.035030\n",
            "2        7      1  0.0  0.053424\n",
            "3       16      1  0.0  0.053545\n",
            "4       15      1  0.0  0.061613\n",
            "5        1      2  0.0  0.050101\n",
            "6       10      2  0.0  0.053839\n",
            "7        3      2  0.0  0.064393\n",
            "8       13      3  0.0  0.047370\n",
            "9       11      4  0.0  0.056647\n",
            "10       9      6  0.0  0.058432\n",
            "11       2      7  0.0  0.000000\n"
          ]
        }
      ]
    }
  ]
}